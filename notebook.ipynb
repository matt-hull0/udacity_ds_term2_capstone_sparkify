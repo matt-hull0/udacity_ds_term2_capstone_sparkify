{
 "cells": [
  {
   "cell_type": "code",
   "execution_count": 258,
   "metadata": {},
   "outputs": [
    {
     "name": "stdout",
     "output_type": "stream",
     "text": [
      "The autoreload extension is already loaded. To reload it, use:\n",
      "  %reload_ext autoreload\n"
     ]
    }
   ],
   "source": [
    "# OPTIONAL: Load the \"autoreload\" extension so that code can change\n",
    "%load_ext autoreload\n",
    "\n",
    "# # OPTIONAL: always reload modules so that as you change code in src, it gets loaded\n",
    "%autoreload 2"
   ]
  },
  {
   "cell_type": "markdown",
   "metadata": {},
   "source": [
    "# Imports"
   ]
  },
  {
   "cell_type": "code",
   "execution_count": 259,
   "metadata": {},
   "outputs": [],
   "source": [
    "from pyspark.sql import SparkSession\n",
    "from ydata_profiling import ProfileReport\n",
    "\n",
    "from pyspark.sql import functions as f\n",
    "from pyspark.sql import Window\n",
    "\n",
    "import pandas as pd\n",
    "\n",
    "import seaborn as sns\n",
    "import matplotlib.pyplot as plt\n",
    "\n",
    "%matplotlib inline"
   ]
  },
  {
   "cell_type": "markdown",
   "metadata": {},
   "source": [
    "# Create Spark and Import Data"
   ]
  },
  {
   "cell_type": "code",
   "execution_count": 260,
   "metadata": {},
   "outputs": [
    {
     "data": {
      "text/plain": [
       "Row(artist='Popol Vuh', auth='Logged In', firstName='Shlok', gender='M', itemInSession=278, lastName='Johnson', length=524.32934, level='paid', location='Dallas-Fort Worth-Arlington, TX', method='PUT', page='NextSong', registration=1533734541000, sessionId=22683, song='Ich mache einen Spiegel - Dream Part 4', status=200, ts=1538352001000, userAgent='\"Mozilla/5.0 (Windows NT 6.1; WOW64) AppleWebKit/537.36 (KHTML, like Gecko) Chrome/36.0.1985.143 Safari/537.36\"', userId='1749042')"
      ]
     },
     "execution_count": 260,
     "metadata": {},
     "output_type": "execute_result"
    }
   ],
   "source": [
    "spark = SparkSession \\\n",
    "    .builder \\\n",
    "    .appName(\"Sparkify\") \\\n",
    "    .getOrCreate()\n",
    "\n",
    "## Read in full sparkify dataset\n",
    "event_data = \"s3n://udacity-dsnd/sparkify/sparkify_event_data.json\"\n",
    "raw_df = spark.read.json(event_data)\n",
    "raw_df.head()"
   ]
  },
  {
   "cell_type": "code",
   "execution_count": 261,
   "metadata": {},
   "outputs": [],
   "source": [
    "df = raw_df.persist()"
   ]
  },
  {
   "cell_type": "code",
   "execution_count": 262,
   "metadata": {},
   "outputs": [],
   "source": [
    "mini_dataset = \"s3n://udacity-dsnd/sparkify/mini_sparkify_event_data.json\""
   ]
  },
  {
   "cell_type": "code",
   "execution_count": 263,
   "metadata": {},
   "outputs": [
    {
     "name": "stdout",
     "output_type": "stream",
     "text": [
      "+-----------+---------+---------+------+-------------+--------+---------+-----+--------------------+------+--------+-------------+---------+--------------------+------+-------------+--------------------+-------+\n",
      "|     artist|     auth|firstName|gender|itemInSession|lastName|   length|level|            location|method|    page| registration|sessionId|                song|status|           ts|           userAgent| userId|\n",
      "+-----------+---------+---------+------+-------------+--------+---------+-----+--------------------+------+--------+-------------+---------+--------------------+------+-------------+--------------------+-------+\n",
      "|  Popol Vuh|Logged In|    Shlok|     M|          278| Johnson|524.32934| paid|Dallas-Fort Worth...|   PUT|NextSong|1533734541000|    22683|Ich mache einen S...|   200|1538352001000|\"Mozilla/5.0 (Win...|1749042|\n",
      "|Los Bunkers|Logged In|  Vianney|     F|            9|  Miller|238.39302| paid|San Francisco-Oak...|   PUT|NextSong|1537500318000|    20836|         MiÃÂ©ntele|   200|1538352002000|\"Mozilla/5.0 (Mac...|1563081|\n",
      "|       Lush|Logged In|     Vina|     F|          109|  Bailey|140.35546| paid|            Hilo, HI|   PUT|NextSong|1536414505000|     4593|           Baby Talk|   200|1538352002000|Mozilla/5.0 (Maci...|1697168|\n",
      "+-----------+---------+---------+------+-------------+--------+---------+-----+--------------------+------+--------+-------------+---------+--------------------+------+-------------+--------------------+-------+\n",
      "only showing top 3 rows\n",
      "\n"
     ]
    }
   ],
   "source": [
    "df.show(3)"
   ]
  },
  {
   "cell_type": "markdown",
   "metadata": {},
   "source": [
    "# Data Exploration\n",
    "\n",
    "## Initial overview using ydata-profiling library"
   ]
  },
  {
   "cell_type": "raw",
   "metadata": {},
   "source": [
    "report = ProfileReport(df, title=\"Profiling Report\",infer_dtypes=False,\n",
    "                interactions=None,\n",
    "                missing_diagrams=None,\n",
    "                correlations={\"auto\": {\"calculate\": False},\n",
    "                              \"pearson\": {\"calculate\": True},\n",
    "                              \"spearman\": {\"calculate\": True}})\n"
   ]
  },
  {
   "cell_type": "raw",
   "metadata": {},
   "source": [
    "report.to_notebook_iframe()"
   ]
  },
  {
   "cell_type": "markdown",
   "metadata": {},
   "source": [
    "Schema information - taken from https://www.kaggle.com/code/yukinagae/sparkify-project-churn-prediction\n",
    "\n",
    "artist: Artist name (ex. Daft Punk) \\\n",
    "auth: User authentication status (ex. Logged) \\\n",
    "firstName: User first name (ex. Colin) \\\n",
    "gender: Gender (ex. F or M) \\\n",
    "itemInSession: Item count in a session (ex. 52) \\\n",
    "lastName: User last name (ex. Freeman) \\\n",
    "length: Length of song (ex. 223.60771) \\\n",
    "level: User plan (ex. paid) \\\n",
    "location: User's location (ex. Bakersfield \\)\n",
    "method: HTTP method (ex. PUT) \\\n",
    "page: Page name (ex. NextSong) \\\n",
    "registration: Registration timestamp (unix timestamp) (ex. 1538173362000) \\\n",
    "sessionId: Session ID (ex. 29) \\\n",
    "song: Song (ex. Harder Better Faster Stronger) \\\n",
    "status: HTTP status (ex. 200) \\\n",
    "ts: Event timestamp(unix timestamp) (ex. 1538352676000) \\\n",
    "userAgent: User's browswer agent (ex. Mozilla/5.0 (Windows NT 6.1; WOW64; rv:31.0) Gecko/20100101 Firefox/31.0) \\\n",
    "userId: User ID (ex. 30) \\"
   ]
  },
  {
   "cell_type": "code",
   "execution_count": 264,
   "metadata": {},
   "outputs": [
    {
     "name": "stdout",
     "output_type": "stream",
     "text": [
      "+-------------------------+\n",
      "|page                     |\n",
      "+-------------------------+\n",
      "|Cancel                   |\n",
      "|Submit Downgrade         |\n",
      "|Thumbs Down              |\n",
      "|Home                     |\n",
      "|Downgrade                |\n",
      "|Roll Advert              |\n",
      "|Logout                   |\n",
      "|Save Settings            |\n",
      "|Cancellation Confirmation|\n",
      "|About                    |\n",
      "|Submit Registration      |\n",
      "|Settings                 |\n",
      "|Login                    |\n",
      "|Register                 |\n",
      "|Add to Playlist          |\n",
      "|Add Friend               |\n",
      "|NextSong                 |\n",
      "|Thumbs Up                |\n",
      "|Help                     |\n",
      "|Upgrade                  |\n",
      "|Error                    |\n",
      "|Submit Upgrade           |\n",
      "+-------------------------+\n",
      "\n"
     ]
    }
   ],
   "source": [
    "#the unique pages are:\n",
    "df.select(\"page\").distinct().show(23, truncate=False)"
   ]
  },
  {
   "cell_type": "markdown",
   "metadata": {},
   "source": [
    "## Key Observations from the ydata-profile report:\n",
    "\n",
    " - 26_259_199 rows\n",
    " - 18 columns\n",
    " - 14_710_249\n",
    "\n",
    "- no duplicate rows\n",
    "\n",
    "  ### Columns:\n",
    "\n",
    "  - artist - missing values, to be expected when the interaction doesn't involve a song (e.g. logging in)\n",
    "  - firstName - missing 778_479 values (note originally thought was 14_562_194 values but ydata report is confusing / bugged - see below)\n",
    "  - gender - missing 778_479 (3%) of values\n",
    "  - lastName - missing 778_479 values (note originally thought was 12_948_838 values but ydata report is confusing / bugged - see below)\n",
    "  - level - 2 distinct values (paid / free), no missing - the majority (78%) are paying users\n",
    "  - location - has missing values. Most popular locations seem to be in USA\n",
    "  - page - 22 distinct values, none missing. Most visited page is \"NextSong\"\n",
    "  - registration - no missing values, but some at 0 which will need to be checked / cleaned up\n",
    "  - status - none missing, 3 distinct values: 200 (OK), 307 (Temporary Redirect), 404 (NOT FOUND)\n",
    "  - ts - none missing, don't have the same \"zeros\" issue as registrations\n",
    "  - userId - none missing, but one very common value (1261737). More checks might be required (e.g. for empty string)\n",
    "\n",
    "\n",
    " side note for the negotiating team - our most played artists are Kings of Leon and Coldplay so don't lose the rights to play their songs!"
   ]
  },
  {
   "cell_type": "code",
   "execution_count": 265,
   "metadata": {},
   "outputs": [
    {
     "name": "stdout",
     "output_type": "stream",
     "text": [
      "+------+----------+---------+------+-------------+--------+------+-----+--------+------+-----+------------+---------+----+------+-------------+---------+-------+\n",
      "|artist|      auth|firstName|gender|itemInSession|lastName|length|level|location|method| page|registration|sessionId|song|status|           ts|userAgent| userId|\n",
      "+------+----------+---------+------+-------------+--------+------+-----+--------+------+-----+------------+---------+----+------+-------------+---------+-------+\n",
      "|  null|Logged Out|     null|  null|           87|    null|  null| paid|    null|   GET| Home|        null|     8615|null|   200|1538352008000|     null|1261737|\n",
      "|  null|Logged Out|     null|  null|            0|    null|  null| free|    null|   PUT|Login|        null|     7433|null|   307|1538352041000|     null|1261737|\n",
      "|  null|Logged Out|     null|  null|            4|    null|  null| free|    null|   GET| Home|        null|    25003|null|   200|1538352182000|     null|1261737|\n",
      "|  null|Logged Out|     null|  null|            2|    null|  null| free|    null|   GET| Home|        null|     9930|null|   200|1538352254000|     null|1261737|\n",
      "|  null|Logged Out|     null|  null|            3|    null|  null| free|    null|   PUT|Login|        null|     9930|null|   307|1538352255000|     null|1261737|\n",
      "|  null|Logged Out|     null|  null|            0|    null|  null| free|    null|   PUT|Login|        null|    23471|null|   307|1538352259000|     null|1261737|\n",
      "|  null|Logged Out|     null|  null|           44|    null|  null| free|    null|   GET| Home|        null|     6317|null|   200|1538352278000|     null|1261737|\n",
      "|  null|Logged Out|     null|  null|           43|    null|  null| free|    null|   GET| Home|        null|    22951|null|   200|1538352361000|     null|1261737|\n",
      "|  null|Logged Out|     null|  null|           44|    null|  null| free|    null|   GET| Home|        null|    22951|null|   200|1538352365000|     null|1261737|\n",
      "|  null|Logged Out|     null|  null|           95|    null|  null| paid|    null|   GET| Home|        null|     6071|null|   200|1538352404000|     null|1261737|\n",
      "|  null|Logged Out|     null|  null|           96|    null|  null| paid|    null|   PUT|Login|        null|     6071|null|   307|1538352405000|     null|1261737|\n",
      "|  null|Logged Out|     null|  null|          137|    null|  null| paid|    null|   GET| Home|        null|     9422|null|   200|1538352461000|     null|1261737|\n",
      "|  null|Logged Out|     null|  null|           68|    null|  null| paid|    null|   GET| Home|        null|    21447|null|   200|1538352464000|     null|1261737|\n",
      "|  null|Logged Out|     null|  null|           69|    null|  null| paid|    null|   PUT|Login|        null|    21447|null|   307|1538352465000|     null|1261737|\n",
      "|  null|Logged Out|     null|  null|          138|    null|  null| paid|    null|   GET| Home|        null|     9422|null|   200|1538352481000|     null|1261737|\n",
      "|  null|Logged Out|     null|  null|          139|    null|  null| paid|    null|   PUT|Login|        null|     9422|null|   307|1538352482000|     null|1261737|\n",
      "|  null|Logged Out|     null|  null|          279|    null|  null| paid|    null|   GET| Home|        null|     9659|null|   200|1538352501000|     null|1261737|\n",
      "|  null|Logged Out|     null|  null|           29|    null|  null| free|    null|   GET| Home|        null|    10467|null|   200|1538352507000|     null|1261737|\n",
      "|  null|Logged Out|     null|  null|          150|    null|  null| paid|    null|   GET| Home|        null|    13098|null|   200|1538352520000|     null|1261737|\n",
      "|  null|Logged Out|     null|  null|          280|    null|  null| paid|    null|   GET| Home|        null|     9659|null|   200|1538352542000|     null|1261737|\n",
      "+------+----------+---------+------+-------------+--------+------+-----+--------+------+-----+------------+---------+----+------+-------------+---------+-------+\n",
      "only showing top 20 rows\n",
      "\n"
     ]
    }
   ],
   "source": [
    "# Understand many missing values in \"firstName\" / \"lastName\" column\n",
    "# Code inspired by: https://sparkbyexamples.com/pyspark/pyspark-find-count-of-null-none-nan-values/\n",
    "\n",
    "df_missing_first_or_last_name = df.where(\n",
    "    (f.col(\"firstName\")==\"\") |\n",
    "    (f.col(\"firstName\").isNull()) |\n",
    "    (f.col(\"lastName\")==\"\") |\n",
    "    (f.col(\"lastName\").isNull())\n",
    "    )\n",
    "df_missing_first_or_last_name.show()"
   ]
  },
  {
   "cell_type": "code",
   "execution_count": 266,
   "metadata": {},
   "outputs": [
    {
     "name": "stdout",
     "output_type": "stream",
     "text": [
      "+----------+\n",
      "|      auth|\n",
      "+----------+\n",
      "|Logged Out|\n",
      "|     Guest|\n",
      "+----------+\n",
      "\n"
     ]
    }
   ],
   "source": [
    "# what are the auth states for users missing names:\n",
    "df_missing_first_or_last_name.select(\"auth\").distinct().show()"
   ]
  },
  {
   "cell_type": "code",
   "execution_count": 267,
   "metadata": {},
   "outputs": [
    {
     "name": "stdout",
     "output_type": "stream",
     "text": [
      "+-------+\n",
      "| userId|\n",
      "+-------+\n",
      "|1261737|\n",
      "+-------+\n",
      "\n"
     ]
    }
   ],
   "source": [
    "# whilst users are always Logged Out or a guest (also not sure what the difference between those is), there are both levels (paid/free) as well as for the same userId: 1261737, which is the one we commented on having many more rows than all the other users. Keep digging:\n",
    "df_missing_first_or_last_name.select(\"userId\").distinct().show()"
   ]
  },
  {
   "cell_type": "code",
   "execution_count": 268,
   "metadata": {},
   "outputs": [
    {
     "name": "stdout",
     "output_type": "stream",
     "text": [
      "+-------------------+\n",
      "|               page|\n",
      "+-------------------+\n",
      "|               Home|\n",
      "|              About|\n",
      "|Submit Registration|\n",
      "|              Login|\n",
      "|           Register|\n",
      "|               Help|\n",
      "|              Error|\n",
      "+-------------------+\n",
      "\n"
     ]
    }
   ],
   "source": [
    "df_missing_first_or_last_name.select(\"page\").distinct().show()"
   ]
  },
  {
   "cell_type": "code",
   "execution_count": 269,
   "metadata": {},
   "outputs": [],
   "source": [
    "# This user never goes to the \"Upgrade\" / \"Submit Upgrade\" page, so is odd they can have the \"paid\" level in the data. It could be some trial scheme sparkify has or similar, but as we don't know and since the \"user\" (it could be many different users that just get given the same id when logged out / a guest) is missing a lot of information about them (both personally and what they are doing on the platform e.g. how many songs listening to etc - if any), we will remove this user from the data"
   ]
  },
  {
   "cell_type": "code",
   "execution_count": 270,
   "metadata": {},
   "outputs": [
    {
     "name": "stdout",
     "output_type": "stream",
     "text": [
      "+------+----+---------+------+-------------+--------+------+-----+--------+------+----+------------+---------+----+------+---+---------+------+\n",
      "|artist|auth|firstName|gender|itemInSession|lastName|length|level|location|method|page|registration|sessionId|song|status| ts|userAgent|userId|\n",
      "+------+----+---------+------+-------------+--------+------+-----+--------+------+----+------------+---------+----+------+---+---------+------+\n",
      "+------+----+---------+------+-------------+--------+------+-----+--------+------+----+------------+---------+----+------+---+---------+------+\n",
      "\n"
     ]
    }
   ],
   "source": [
    "# But there are also more first names missing than last names:\n",
    "df_missing_first_got_last = df_missing_first_or_last_name = df.where(\n",
    "    (f.col(\"firstName\").isNull()) &\n",
    "    (f.col(\"lastName\").isNotNull())\n",
    "    )\n",
    "df_missing_first_got_last.show()"
   ]
  },
  {
   "cell_type": "code",
   "execution_count": 271,
   "metadata": {},
   "outputs": [
    {
     "name": "stdout",
     "output_type": "stream",
     "text": [
      "+---------+--------+\n",
      "|firstName|lastName|\n",
      "+---------+--------+\n",
      "|   778479|  778479|\n",
      "+---------+--------+\n",
      "\n"
     ]
    }
   ],
   "source": [
    "# Code inspired by: https://sparkbyexamples.com/pyspark/pyspark-find-count-of-null-none-nan-values/\n",
    "\n",
    "df.select([f.count(f.when(f.isnan(c) | f.col(c).isNull(), c)).alias(c) for c in [\"firstName\", \"lastName\"]]\n",
    "   ).show()"
   ]
  },
  {
   "cell_type": "code",
   "execution_count": 272,
   "metadata": {},
   "outputs": [],
   "source": [
    "# This is completely different to the values from ydata-profiling tool, which clearly has some sort of bug to be resolved.\n",
    "#(reviewed and found already raised as an issue: https://github.com/ydataai/ydata-profiling/issues/1429)"
   ]
  },
  {
   "cell_type": "code",
   "execution_count": 273,
   "metadata": {},
   "outputs": [
    {
     "name": "stdout",
     "output_type": "stream",
     "text": [
      "root\n",
      " |-- artist: string (nullable = true)\n",
      " |-- auth: string (nullable = true)\n",
      " |-- firstName: string (nullable = true)\n",
      " |-- gender: string (nullable = true)\n",
      " |-- itemInSession: long (nullable = true)\n",
      " |-- lastName: string (nullable = true)\n",
      " |-- length: double (nullable = true)\n",
      " |-- level: string (nullable = true)\n",
      " |-- location: string (nullable = true)\n",
      " |-- method: string (nullable = true)\n",
      " |-- page: string (nullable = true)\n",
      " |-- registration: long (nullable = true)\n",
      " |-- sessionId: long (nullable = true)\n",
      " |-- song: string (nullable = true)\n",
      " |-- status: long (nullable = true)\n",
      " |-- ts: long (nullable = true)\n",
      " |-- userAgent: string (nullable = true)\n",
      " |-- userId: string (nullable = true)\n",
      "\n"
     ]
    }
   ],
   "source": [
    "df.printSchema()"
   ]
  },
  {
   "cell_type": "code",
   "execution_count": 274,
   "metadata": {},
   "outputs": [
    {
     "name": "stdout",
     "output_type": "stream",
     "text": [
      "+------+----------+---------+------+-------------+--------+------+-----+--------+------+-----+------------+---------+----+------+-------------+---------+-------+\n",
      "|artist|      auth|firstName|gender|itemInSession|lastName|length|level|location|method| page|registration|sessionId|song|status|           ts|userAgent| userId|\n",
      "+------+----------+---------+------+-------------+--------+------+-----+--------+------+-----+------------+---------+----+------+-------------+---------+-------+\n",
      "|  null|Logged Out|     null|  null|           87|    null|  null| paid|    null|   GET| Home|        null|     8615|null|   200|1538352008000|     null|1261737|\n",
      "|  null|Logged Out|     null|  null|            0|    null|  null| free|    null|   PUT|Login|        null|     7433|null|   307|1538352041000|     null|1261737|\n",
      "|  null|Logged Out|     null|  null|            4|    null|  null| free|    null|   GET| Home|        null|    25003|null|   200|1538352182000|     null|1261737|\n",
      "|  null|Logged Out|     null|  null|            2|    null|  null| free|    null|   GET| Home|        null|     9930|null|   200|1538352254000|     null|1261737|\n",
      "|  null|Logged Out|     null|  null|            3|    null|  null| free|    null|   PUT|Login|        null|     9930|null|   307|1538352255000|     null|1261737|\n",
      "|  null|Logged Out|     null|  null|            0|    null|  null| free|    null|   PUT|Login|        null|    23471|null|   307|1538352259000|     null|1261737|\n",
      "|  null|Logged Out|     null|  null|           44|    null|  null| free|    null|   GET| Home|        null|     6317|null|   200|1538352278000|     null|1261737|\n",
      "|  null|Logged Out|     null|  null|           43|    null|  null| free|    null|   GET| Home|        null|    22951|null|   200|1538352361000|     null|1261737|\n",
      "|  null|Logged Out|     null|  null|           44|    null|  null| free|    null|   GET| Home|        null|    22951|null|   200|1538352365000|     null|1261737|\n",
      "|  null|Logged Out|     null|  null|           95|    null|  null| paid|    null|   GET| Home|        null|     6071|null|   200|1538352404000|     null|1261737|\n",
      "|  null|Logged Out|     null|  null|           96|    null|  null| paid|    null|   PUT|Login|        null|     6071|null|   307|1538352405000|     null|1261737|\n",
      "|  null|Logged Out|     null|  null|          137|    null|  null| paid|    null|   GET| Home|        null|     9422|null|   200|1538352461000|     null|1261737|\n",
      "|  null|Logged Out|     null|  null|           68|    null|  null| paid|    null|   GET| Home|        null|    21447|null|   200|1538352464000|     null|1261737|\n",
      "|  null|Logged Out|     null|  null|           69|    null|  null| paid|    null|   PUT|Login|        null|    21447|null|   307|1538352465000|     null|1261737|\n",
      "|  null|Logged Out|     null|  null|          138|    null|  null| paid|    null|   GET| Home|        null|     9422|null|   200|1538352481000|     null|1261737|\n",
      "|  null|Logged Out|     null|  null|          139|    null|  null| paid|    null|   PUT|Login|        null|     9422|null|   307|1538352482000|     null|1261737|\n",
      "|  null|Logged Out|     null|  null|          279|    null|  null| paid|    null|   GET| Home|        null|     9659|null|   200|1538352501000|     null|1261737|\n",
      "|  null|Logged Out|     null|  null|           29|    null|  null| free|    null|   GET| Home|        null|    10467|null|   200|1538352507000|     null|1261737|\n",
      "|  null|Logged Out|     null|  null|          150|    null|  null| paid|    null|   GET| Home|        null|    13098|null|   200|1538352520000|     null|1261737|\n",
      "|  null|Logged Out|     null|  null|          280|    null|  null| paid|    null|   GET| Home|        null|     9659|null|   200|1538352542000|     null|1261737|\n",
      "+------+----------+---------+------+-------------+--------+------+-----+--------+------+-----+------------+---------+----+------+-------------+---------+-------+\n",
      "only showing top 20 rows\n",
      "\n"
     ]
    }
   ],
   "source": [
    "# Investigate / clean up registration==0 rows\n",
    "#observation from the ydata report is that it is the same number of rows as the missing first/last\n",
    "#names so likely the same \"issue\"\n",
    "df.where((f.col(\"registration\")<1) |f.col(\"registration\").isNull()).show()"
   ]
  },
  {
   "cell_type": "code",
   "execution_count": 275,
   "metadata": {},
   "outputs": [
    {
     "name": "stdout",
     "output_type": "stream",
     "text": [
      "+-----------------+\n",
      "|min(registration)|\n",
      "+-----------------+\n",
      "|    1508018725000|\n",
      "+-----------------+\n",
      "\n"
     ]
    }
   ],
   "source": [
    "df.select(f.min(f.col(\"registration\"))).show()"
   ]
  },
  {
   "cell_type": "code",
   "execution_count": 277,
   "metadata": {},
   "outputs": [
    {
     "data": {
      "text/html": [
       "<div>\n",
       "<style scoped>\n",
       "    .dataframe tbody tr th:only-of-type {\n",
       "        vertical-align: middle;\n",
       "    }\n",
       "\n",
       "    .dataframe tbody tr th {\n",
       "        vertical-align: top;\n",
       "    }\n",
       "\n",
       "    .dataframe thead th {\n",
       "        text-align: right;\n",
       "    }\n",
       "</style>\n",
       "<table border=\"1\" class=\"dataframe\">\n",
       "  <thead>\n",
       "    <tr style=\"text-align: right;\">\n",
       "      <th></th>\n",
       "      <th>summary</th>\n",
       "      <th>artist</th>\n",
       "      <th>auth</th>\n",
       "      <th>firstName</th>\n",
       "      <th>gender</th>\n",
       "      <th>itemInSession</th>\n",
       "      <th>lastName</th>\n",
       "      <th>length</th>\n",
       "      <th>level</th>\n",
       "      <th>location</th>\n",
       "      <th>method</th>\n",
       "      <th>page</th>\n",
       "      <th>registration</th>\n",
       "      <th>sessionId</th>\n",
       "      <th>song</th>\n",
       "      <th>status</th>\n",
       "      <th>ts</th>\n",
       "      <th>userAgent</th>\n",
       "      <th>userId</th>\n",
       "    </tr>\n",
       "  </thead>\n",
       "  <tbody>\n",
       "    <tr>\n",
       "      <th>0</th>\n",
       "      <td>count</td>\n",
       "      <td>20850272</td>\n",
       "      <td>26259199</td>\n",
       "      <td>25480720</td>\n",
       "      <td>25480720</td>\n",
       "      <td>26259199</td>\n",
       "      <td>25480720</td>\n",
       "      <td>20850272</td>\n",
       "      <td>26259199</td>\n",
       "      <td>25480720</td>\n",
       "      <td>26259199</td>\n",
       "      <td>26259199</td>\n",
       "      <td>25480720</td>\n",
       "      <td>26259199</td>\n",
       "      <td>20850272</td>\n",
       "      <td>26259199</td>\n",
       "      <td>26259199</td>\n",
       "      <td>25480720</td>\n",
       "      <td>26259199</td>\n",
       "    </tr>\n",
       "    <tr>\n",
       "      <th>1</th>\n",
       "      <td>mean</td>\n",
       "      <td>Infinity</td>\n",
       "      <td>None</td>\n",
       "      <td>Infinity</td>\n",
       "      <td>None</td>\n",
       "      <td>106.56267561702853</td>\n",
       "      <td>None</td>\n",
       "      <td>248.72543296748836</td>\n",
       "      <td>None</td>\n",
       "      <td>None</td>\n",
       "      <td>None</td>\n",
       "      <td>None</td>\n",
       "      <td>1.5352206652605132E12</td>\n",
       "      <td>100577.99253503505</td>\n",
       "      <td>NaN</td>\n",
       "      <td>210.06768953615074</td>\n",
       "      <td>1.5409056361137727E12</td>\n",
       "      <td>None</td>\n",
       "      <td>1488379.8347142653</td>\n",
       "    </tr>\n",
       "    <tr>\n",
       "      <th>2</th>\n",
       "      <td>stddev</td>\n",
       "      <td>NaN</td>\n",
       "      <td>None</td>\n",
       "      <td>NaN</td>\n",
       "      <td>None</td>\n",
       "      <td>117.658126175238</td>\n",
       "      <td>None</td>\n",
       "      <td>97.28710387078067</td>\n",
       "      <td>None</td>\n",
       "      <td>None</td>\n",
       "      <td>None</td>\n",
       "      <td>None</td>\n",
       "      <td>3.240299097825069E9</td>\n",
       "      <td>71909.21077875949</td>\n",
       "      <td>NaN</td>\n",
       "      <td>31.550728788197635</td>\n",
       "      <td>1.515810555271851E9</td>\n",
       "      <td>None</td>\n",
       "      <td>286970.08894623973</td>\n",
       "    </tr>\n",
       "    <tr>\n",
       "      <th>3</th>\n",
       "      <td>min</td>\n",
       "      <td>!!!</td>\n",
       "      <td>Cancelled</td>\n",
       "      <td>Aaden</td>\n",
       "      <td>F</td>\n",
       "      <td>0</td>\n",
       "      <td>Abbott</td>\n",
       "      <td>0.522</td>\n",
       "      <td>free</td>\n",
       "      <td>Aberdeen, SD</td>\n",
       "      <td>GET</td>\n",
       "      <td>About</td>\n",
       "      <td>1508018725000</td>\n",
       "      <td>1</td>\n",
       "      <td>\u0018Till Kingdom Come</td>\n",
       "      <td>200</td>\n",
       "      <td>1538352001000</td>\n",
       "      <td>\"Mozilla/5.0 (Macintosh; Intel Mac OS X 10_10)...</td>\n",
       "      <td>1000025</td>\n",
       "    </tr>\n",
       "    <tr>\n",
       "      <th>4</th>\n",
       "      <td>max</td>\n",
       "      <td>ÃÂ¼NN</td>\n",
       "      <td>Logged Out</td>\n",
       "      <td>Zytavious</td>\n",
       "      <td>M</td>\n",
       "      <td>1428</td>\n",
       "      <td>Zuniga</td>\n",
       "      <td>3024.66567</td>\n",
       "      <td>paid</td>\n",
       "      <td>Zanesville, OH</td>\n",
       "      <td>PUT</td>\n",
       "      <td>Upgrade</td>\n",
       "      <td>1543821822000</td>\n",
       "      <td>240381</td>\n",
       "      <td>ÃÂ¾etta Gerist ÃÂ¡ Bestu BÃÂ¦jum</td>\n",
       "      <td>404</td>\n",
       "      <td>1543622402000</td>\n",
       "      <td>Mozilla/5.0 (compatible; MSIE 9.0; Windows NT ...</td>\n",
       "      <td>1999996</td>\n",
       "    </tr>\n",
       "  </tbody>\n",
       "</table>\n",
       "</div>"
      ],
      "text/plain": [
       "  summary    artist        auth  firstName    gender       itemInSession  \\\n",
       "0   count  20850272    26259199   25480720  25480720            26259199   \n",
       "1    mean  Infinity        None   Infinity      None  106.56267561702853   \n",
       "2  stddev       NaN        None        NaN      None    117.658126175238   \n",
       "3     min       !!!   Cancelled      Aaden         F                   0   \n",
       "4     max    ÃÂ¼NN  Logged Out  Zytavious         M                1428   \n",
       "\n",
       "   lastName              length     level        location    method      page  \\\n",
       "0  25480720            20850272  26259199        25480720  26259199  26259199   \n",
       "1      None  248.72543296748836      None            None      None      None   \n",
       "2      None   97.28710387078067      None            None      None      None   \n",
       "3    Abbott               0.522      free    Aberdeen, SD       GET     About   \n",
       "4    Zuniga          3024.66567      paid  Zanesville, OH       PUT   Upgrade   \n",
       "\n",
       "            registration           sessionId  \\\n",
       "0               25480720            26259199   \n",
       "1  1.5352206652605132E12  100577.99253503505   \n",
       "2    3.240299097825069E9   71909.21077875949   \n",
       "3          1508018725000                   1   \n",
       "4          1543821822000              240381   \n",
       "\n",
       "                                  song              status  \\\n",
       "0                             20850272            26259199   \n",
       "1                                  NaN  210.06768953615074   \n",
       "2                                  NaN  31.550728788197635   \n",
       "3                   \u0018Till Kingdom Come                 200   \n",
       "4  ÃÂ¾etta Gerist ÃÂ¡ Bestu BÃÂ¦jum                 404   \n",
       "\n",
       "                      ts                                          userAgent  \\\n",
       "0               26259199                                           25480720   \n",
       "1  1.5409056361137727E12                                               None   \n",
       "2    1.515810555271851E9                                               None   \n",
       "3          1538352001000  \"Mozilla/5.0 (Macintosh; Intel Mac OS X 10_10)...   \n",
       "4          1543622402000  Mozilla/5.0 (compatible; MSIE 9.0; Windows NT ...   \n",
       "\n",
       "               userId  \n",
       "0            26259199  \n",
       "1  1488379.8347142653  \n",
       "2  286970.08894623973  \n",
       "3             1000025  \n",
       "4             1999996  "
      ]
     },
     "execution_count": 277,
     "metadata": {},
     "output_type": "execute_result"
    }
   ],
   "source": [
    "#re-check some results given don't fully trust the ydata report now:\n",
    "describe_pdf = df.describe().toPandas()\n",
    "describe_pdf"
   ]
  },
  {
   "cell_type": "markdown",
   "metadata": {},
   "source": [
    "# Data Cleaning"
   ]
  },
  {
   "cell_type": "code",
   "execution_count": 278,
   "metadata": {},
   "outputs": [],
   "source": [
    "# filter out user 1261737\n",
    "df = df.where(f.col(\"userId\")!=1261737)"
   ]
  },
  {
   "cell_type": "markdown",
   "metadata": {},
   "source": [
    "# Target Extraction\n",
    "\n",
    "As we have seen that most of the Sparkify users are on the \"paid\" level, I have decided to try to come up with a model that will predict users that are more likely to leave that level (either by downgrading to the free level or closing their account altogether) in the hope this will have biggest impact on maintaining future revenue.\n",
    "\n",
    "need to filter to just paid and flag those that downgraded?"
   ]
  },
  {
   "cell_type": "code",
   "execution_count": 279,
   "metadata": {},
   "outputs": [
    {
     "name": "stdout",
     "output_type": "stream",
     "text": [
      "There are 22277 unique userIds\n"
     ]
    }
   ],
   "source": [
    "df_user_ids = df.select(\"userID\").distinct()\n",
    "print(f\"There are {df_user_ids.count()} unique userIds\")"
   ]
  },
  {
   "cell_type": "markdown",
   "metadata": {},
   "source": [
    "Filter the dataframe down to just the interactions had whilst users are on the paid tier, using the \"phase\" approach"
   ]
  },
  {
   "cell_type": "code",
   "execution_count": 280,
   "metadata": {},
   "outputs": [],
   "source": [
    "df = df.withColumn(\"level_change\",\n",
    "    f.when(f.col(\"page\")==\"Submit Upgrade\", 1)\n",
    "    .when(f.col(\"page\")==\"Submit Downgrade\", -1)\n",
    "    .when(f.col(\"page\")==\"Cancellation Confirmation\", -1)\n",
    "    .otherwise(0))\n",
    "\n",
    "window = Window.partitionBy(\"userId\").orderBy(f.asc(\"ts\")).rangeBetween(Window.unboundedPreceding, Window.currentRow)\n",
    "df = df.withColumn(\"level_phase\", f.sum(\"level_change\").over(window))\n"
   ]
  },
  {
   "cell_type": "code",
   "execution_count": null,
   "metadata": {},
   "outputs": [],
   "source": []
  },
  {
   "cell_type": "code",
   "execution_count": 281,
   "metadata": {},
   "outputs": [
    {
     "name": "stdout",
     "output_type": "stream",
     "text": [
      "+-------+----------------+-------------+-----------+\n",
      "| userId|            page|           ts|level_phase|\n",
      "+-------+----------------+-------------+-----------+\n",
      "|1000025|  Submit Upgrade|1538510602000|          1|\n",
      "|1000035|  Submit Upgrade|1539635043000|          1|\n",
      "|1000083|  Submit Upgrade|1539051434000|          1|\n",
      "|1000103|  Submit Upgrade|1538683342000|          1|\n",
      "|1000164|  Submit Upgrade|1539715737000|          1|\n",
      "|1000168|  Submit Upgrade|1538689483000|          1|\n",
      "|1000182|  Submit Upgrade|1539990415000|          1|\n",
      "|1000214|Submit Downgrade|1538852249000|         -1|\n",
      "|1000214|  Submit Upgrade|1540056711000|          0|\n",
      "|1000214|Submit Downgrade|1541082453000|         -1|\n",
      "|1000214|  Submit Upgrade|1542876934000|          0|\n",
      "|1000233|  Submit Upgrade|1542319826000|          1|\n",
      "|1000280|  Submit Upgrade|1539913798000|          1|\n",
      "|1000280|Submit Downgrade|1539974239000|          0|\n",
      "|1000407|  Submit Upgrade|1538499634000|          1|\n",
      "|1000407|Submit Downgrade|1542211514000|          0|\n",
      "|1000409|  Submit Upgrade|1538569671000|          1|\n",
      "|1000446|  Submit Upgrade|1542029185000|          1|\n",
      "|1000527|  Submit Upgrade|1542194494000|          1|\n",
      "|1000527|Submit Downgrade|1543344237000|          0|\n",
      "+-------+----------------+-------------+-----------+\n",
      "only showing top 20 rows\n",
      "\n"
     ]
    }
   ],
   "source": [
    "df.select(\"userId\", \"page\", \"ts\", \"level_phase\").where(f.col(\"page\").isin([\"Submit Upgrade\", \"Submit Downgrade\", \"cancellation Confirmation\"])).sort(\"userId\", \"ts\").show()"
   ]
  },
  {
   "cell_type": "code",
   "execution_count": 282,
   "metadata": {},
   "outputs": [
    {
     "name": "stdout",
     "output_type": "stream",
     "text": [
      "+-------+----------------+-------------+\n",
      "| userId|            page|           ts|\n",
      "+-------+----------------+-------------+\n",
      "|1000214|Submit Downgrade|1538852249000|\n",
      "|1000214|  Submit Upgrade|1540056711000|\n",
      "|1000214|Submit Downgrade|1541082453000|\n",
      "|1000214|  Submit Upgrade|1542876934000|\n",
      "+-------+----------------+-------------+\n",
      "\n"
     ]
    }
   ],
   "source": [
    "#check the raw input for user 1000214 as shouldn't have a downgrade first:\n",
    "raw_df.select(\"userId\", \"page\", \"ts\").where((f.col(\"page\").isin([\"Submit Upgrade\", \"Submit Downgrade\", \"cancellation Confirmation\"]))&(f.col(\"userId\")==1000214)).sort(\"userId\", \"ts\").show()"
   ]
  },
  {
   "cell_type": "code",
   "execution_count": 283,
   "metadata": {},
   "outputs": [
    {
     "data": {
      "text/plain": [
       "926"
      ]
     },
     "execution_count": 283,
     "metadata": {},
     "output_type": "execute_result"
    }
   ],
   "source": [
    "df.where((f.col(\"page\")==\"Submit Upgrade\")&(f.col(\"level_phase\")!=1)).select(\"userId\").distinct().count()"
   ]
  },
  {
   "cell_type": "code",
   "execution_count": 284,
   "metadata": {},
   "outputs": [
    {
     "name": "stdout",
     "output_type": "stream",
     "text": [
      "+-------+\n",
      "| userId|\n",
      "+-------+\n",
      "|1001246|\n",
      "|1022581|\n",
      "|1038584|\n",
      "|1100489|\n",
      "|1115082|\n",
      "|1201787|\n",
      "|1222193|\n",
      "|1242483|\n",
      "|1250440|\n",
      "|1322754|\n",
      "|1339632|\n",
      "|1352063|\n",
      "|1353496|\n",
      "|1372213|\n",
      "|1372655|\n",
      "|1421038|\n",
      "|1473440|\n",
      "|1474426|\n",
      "|1501443|\n",
      "|1520578|\n",
      "+-------+\n",
      "only showing top 20 rows\n",
      "\n"
     ]
    }
   ],
   "source": [
    "df.where((f.col(\"page\")==\"Submit Upgrade\")&(f.col(\"level_phase\")!=1)).select(\"userId\").distinct().show()"
   ]
  },
  {
   "cell_type": "code",
   "execution_count": 285,
   "metadata": {},
   "outputs": [
    {
     "name": "stdout",
     "output_type": "stream",
     "text": [
      "+-------+----------------+-------------+\n",
      "| userId|            page|           ts|\n",
      "+-------+----------------+-------------+\n",
      "|1250440|Submit Downgrade|1539015030000|\n",
      "|1250440|  Submit Upgrade|1539644517000|\n",
      "|1250440|Submit Downgrade|1539954044000|\n",
      "|1250440|  Submit Upgrade|1540877615000|\n",
      "|1250440|Submit Downgrade|1541476079000|\n",
      "|1250440|  Submit Upgrade|1543398472000|\n",
      "+-------+----------------+-------------+\n",
      "\n"
     ]
    }
   ],
   "source": [
    "raw_df.select(\"userId\", \"page\", \"ts\").where((f.col(\"page\").isin([\"Submit Upgrade\", \"Submit Downgrade\", \"cancellation Confirmation\"]))&(f.col(\"userId\")==1250440)).sort(\"userId\", \"ts\").show()"
   ]
  },
  {
   "cell_type": "markdown",
   "metadata": {},
   "source": [
    "So we see users that downgrade first, implying we must be missing earlier data which covers what they were doing as a paid user.\n",
    "Also see "
   ]
  },
  {
   "cell_type": "markdown",
   "metadata": {},
   "source": [
    "Clean up: For all users that upgraded, remove any data before their first upgrade:"
   ]
  },
  {
   "cell_type": "code",
   "execution_count": 286,
   "metadata": {},
   "outputs": [],
   "source": [
    "df = (df\n",
    "      .withColumn(\"upgrade_flag\", f.when(f.col(\"page\")==\"Submit Upgrade\", 1).otherwise(0))\n",
    "      .withColumn(\"upgrade_phase\", f.sum(\"upgrade_flag\").over(window))\n",
    "      .where(f.col(\"upgrade_phase\")>0)\n",
    "      #.drop(\"upgrade_phase\", \"upgrade_flag\")\n",
    ")\n"
   ]
  },
  {
   "cell_type": "code",
   "execution_count": 287,
   "metadata": {},
   "outputs": [
    {
     "name": "stdout",
     "output_type": "stream",
     "text": [
      "+----------------+---------+---------+------+-------------+--------+---------+-----+-----------+------+--------------+-------------+---------+--------------------+------+-------------+--------------------+-------+------------+-----------+------------+-------------+\n",
      "|          artist|     auth|firstName|gender|itemInSession|lastName|   length|level|   location|method|          page| registration|sessionId|                song|status|           ts|           userAgent| userId|level_change|level_phase|upgrade_flag|upgrade_phase|\n",
      "+----------------+---------+---------+------+-------------+--------+---------+-----+-----------+------+--------------+-------------+---------+--------------------+------+-------------+--------------------+-------+------------+-----------+------------+-------------+\n",
      "|            null|Logged In|    Frank|     M|            7|  Warren|     null| free|Findlay, OH|   PUT|Submit Upgrade|1535470939000|    15200|                null|   307|1539913798000|Mozilla/5.0 (Wind...|1000280|           1|          1|           1|            1|\n",
      "|            null|Logged In|    Frank|     M|            8|  Warren|     null| paid|Findlay, OH|   GET|          Home|1535470939000|    15200|                null|   200|1539913820000|Mozilla/5.0 (Wind...|1000280|           0|          1|           0|            1|\n",
      "|Rachael Yamagata|Logged In|    Frank|     M|            9|  Warren|241.10975| paid|Findlay, OH|   PUT|      NextSong|1535470939000|    15200|Duet (Album Version)|   200|1539913898000|Mozilla/5.0 (Wind...|1000280|           0|          1|           0|            1|\n",
      "|            null|Logged In|    Frank|     M|           10|  Warren|     null| paid|Findlay, OH|   GET|      Settings|1535470939000|    15200|                null|   200|1539913900000|Mozilla/5.0 (Wind...|1000280|           0|          1|           0|            1|\n",
      "|    Taylor Swift|Logged In|    Frank|     M|           11|  Warren|267.49342| paid|Findlay, OH|   PUT|      NextSong|1535470939000|    15200|    Forever & Always|   200|1539914139000|Mozilla/5.0 (Wind...|1000280|           0|          1|           0|            1|\n",
      "+----------------+---------+---------+------+-------------+--------+---------+-----+-----------+------+--------------+-------------+---------+--------------------+------+-------------+--------------------+-------+------------+-----------+------------+-------------+\n",
      "only showing top 5 rows\n",
      "\n"
     ]
    }
   ],
   "source": [
    "df.show(5)"
   ]
  },
  {
   "cell_type": "code",
   "execution_count": 288,
   "metadata": {},
   "outputs": [],
   "source": [
    "# re-calculate level change and level phase cols with \"cleaned\" data:\n",
    "df = df.withColumn(\"level_change\",\n",
    "    f.when(f.col(\"page\")==\"Submit Upgrade\", 1)\n",
    "    .when(f.col(\"page\")==\"Submit Downgrade\", -1)\n",
    "    .when(f.col(\"page\")==\"Cancellation Confirmation\", -1)\n",
    "    .otherwise(0))\n",
    "\n",
    "window = Window.partitionBy(\"userId\").orderBy(f.asc(\"ts\")).rangeBetween(Window.unboundedPreceding, Window.currentRow)\n",
    "df = df.withColumn(\"level_phase\", f.sum(\"level_change\").over(window))\n"
   ]
  },
  {
   "cell_type": "code",
   "execution_count": 289,
   "metadata": {},
   "outputs": [
    {
     "name": "stdout",
     "output_type": "stream",
     "text": [
      "+-------+----------------+-------------+-----------+\n",
      "| userId|            page|           ts|level_phase|\n",
      "+-------+----------------+-------------+-----------+\n",
      "|1000025|  Submit Upgrade|1538510602000|          1|\n",
      "|1000035|  Submit Upgrade|1539635043000|          1|\n",
      "|1000083|  Submit Upgrade|1539051434000|          1|\n",
      "|1000103|  Submit Upgrade|1538683342000|          1|\n",
      "|1000164|  Submit Upgrade|1539715737000|          1|\n",
      "|1000168|  Submit Upgrade|1538689483000|          1|\n",
      "|1000182|  Submit Upgrade|1539990415000|          1|\n",
      "|1000214|  Submit Upgrade|1540056711000|          1|\n",
      "|1000214|Submit Downgrade|1541082453000|          0|\n",
      "|1000214|  Submit Upgrade|1542876934000|          1|\n",
      "|1000233|  Submit Upgrade|1542319826000|          1|\n",
      "|1000280|  Submit Upgrade|1539913798000|          1|\n",
      "|1000280|Submit Downgrade|1539974239000|          0|\n",
      "|1000407|  Submit Upgrade|1538499634000|          1|\n",
      "|1000407|Submit Downgrade|1542211514000|          0|\n",
      "|1000409|  Submit Upgrade|1538569671000|          1|\n",
      "|1000446|  Submit Upgrade|1542029185000|          1|\n",
      "|1000527|  Submit Upgrade|1542194494000|          1|\n",
      "|1000527|Submit Downgrade|1543344237000|          0|\n",
      "|1000611|  Submit Upgrade|1541587765000|          1|\n",
      "+-------+----------------+-------------+-----------+\n",
      "only showing top 20 rows\n",
      "\n"
     ]
    }
   ],
   "source": [
    "df.select(\"userId\", \"page\", \"ts\", \"level_phase\").where(f.col(\"page\").isin([\"Submit Upgrade\", \"Submit Downgrade\", \"cancellation Confirmation\"])).sort(\"userId\", \"ts\").show()"
   ]
  },
  {
   "cell_type": "code",
   "execution_count": 290,
   "metadata": {},
   "outputs": [
    {
     "name": "stdout",
     "output_type": "stream",
     "text": [
      "+----------------+----------------+\n",
      "|max(level_phase)|min(level_phase)|\n",
      "+----------------+----------------+\n",
      "|               1|              -1|\n",
      "+----------------+----------------+\n",
      "\n"
     ]
    }
   ],
   "source": [
    "# check max phase is 1\n",
    "# check min phase is -1, for if downgrade and then cancel\n",
    "# check always upgrade first, i.e. phase is 1 when do an upgrade\n",
    "df.select(f.max(\"level_phase\"), f.min(\"level_phase\")).show()"
   ]
  },
  {
   "cell_type": "code",
   "execution_count": 291,
   "metadata": {},
   "outputs": [
    {
     "data": {
      "text/plain": [
       "0"
      ]
     },
     "execution_count": 291,
     "metadata": {},
     "output_type": "execute_result"
    }
   ],
   "source": [
    "df.where((f.col(\"page\")==\"Submit Upgrade\")&(f.col(\"level_phase\")!=1)).select(\"userId\").distinct().count()"
   ]
  },
  {
   "cell_type": "markdown",
   "metadata": {},
   "source": [
    "As we have seen users have upgraded multiple times (with downgrades in-between), we want to be able to differentiate between each period they were a paying user, and determine for each period if they churned or not"
   ]
  },
  {
   "cell_type": "code",
   "execution_count": 292,
   "metadata": {},
   "outputs": [],
   "source": [
    "#\n",
    "df = (\n",
    "    df\n",
    "    .withColumn(\"userId_paid_phase\", f.concat_ws(\"_\", f.col(\"userId\"), f.col(\"upgrade_phase\")))\n",
    ")"
   ]
  },
  {
   "cell_type": "code",
   "execution_count": 293,
   "metadata": {},
   "outputs": [],
   "source": [
    "downgrade_window = Window.partitionBy(\"userID\",\"upgrade_phase\")\n",
    "df = df.withColumn(\"downgraded\", f.min(\"level_change\").over(downgrade_window))"
   ]
  },
  {
   "cell_type": "code",
   "execution_count": 372,
   "metadata": {},
   "outputs": [
    {
     "name": "stdout",
     "output_type": "stream",
     "text": [
      "Number of unique User ID's in data:\n",
      "+----------------------+\n",
      "|count(DISTINCT userId)|\n",
      "+----------------------+\n",
      "|                 22278|\n",
      "+----------------------+\n",
      "\n",
      "Number of unique User ID's that were on a paid level at some point:\n",
      "+----------------------+\n",
      "|count(DISTINCT userId)|\n",
      "+----------------------+\n",
      "|                 12082|\n",
      "+----------------------+\n",
      "\n"
     ]
    }
   ],
   "source": [
    "print(\"Number of unique User ID's in data:\")\n",
    "raw_df.select(f.countDistinct(\"userId\")).show()\n",
    "print(\"Number of unique User ID's that were on a paid level at some point:\")\n",
    "raw_df.select(\"userId\",\"page\").where(f.col(\"page\")==\"Submit Upgrade\").select(f.countDistinct(\"userId\")).show()"
   ]
  },
  {
   "cell_type": "code",
   "execution_count": 373,
   "metadata": {},
   "outputs": [
    {
     "data": {
      "text/plain": [
       "54.23287548253882"
      ]
     },
     "execution_count": 373,
     "metadata": {},
     "output_type": "execute_result"
    }
   ],
   "source": [
    "12082/22278 * 100 #% of users that paid level at some point"
   ]
  },
  {
   "cell_type": "code",
   "execution_count": 294,
   "metadata": {},
   "outputs": [
    {
     "name": "stdout",
     "output_type": "stream",
     "text": [
      "+--------------------+-------+-----+------------+-----------+------------+-------------+-----------------+----------+\n",
      "|                page| userId|level|level_change|level_phase|upgrade_flag|upgrade_phase|userId_paid_phase|downgraded|\n",
      "+--------------------+-------+-----+------------+-----------+------------+-------------+-----------------+----------+\n",
      "|      Submit Upgrade|1000025| free|           1|          1|           1|            1|        1000025_1|        -1|\n",
      "|Cancellation Conf...|1000025| paid|          -1|          0|           0|            1|        1000025_1|        -1|\n",
      "|      Submit Upgrade|1000035| free|           1|          1|           1|            1|        1000035_1|         0|\n",
      "|      Submit Upgrade|1000083| free|           1|          1|           1|            1|        1000083_1|        -1|\n",
      "|Cancellation Conf...|1000083| paid|          -1|          0|           0|            1|        1000083_1|        -1|\n",
      "|      Submit Upgrade|1000103| free|           1|          1|           1|            1|        1000103_1|         0|\n",
      "|      Submit Upgrade|1000164| free|           1|          1|           1|            1|        1000164_1|         0|\n",
      "|      Submit Upgrade|1000168| free|           1|          1|           1|            1|        1000168_1|         0|\n",
      "|      Submit Upgrade|1000182| free|           1|          1|           1|            1|        1000182_1|         0|\n",
      "|      Submit Upgrade|1000214| free|           1|          1|           1|            1|        1000214_1|        -1|\n",
      "|    Submit Downgrade|1000214| paid|          -1|          0|           0|            1|        1000214_1|        -1|\n",
      "|      Submit Upgrade|1000214| free|           1|          1|           1|            2|        1000214_2|         0|\n",
      "|      Submit Upgrade|1000233| free|           1|          1|           1|            1|        1000233_1|         0|\n",
      "|      Submit Upgrade|1000280| free|           1|          1|           1|            1|        1000280_1|        -1|\n",
      "|    Submit Downgrade|1000280| paid|          -1|          0|           0|            1|        1000280_1|        -1|\n",
      "|Cancellation Conf...|1000280| free|          -1|         -1|           0|            1|        1000280_1|        -1|\n",
      "|      Submit Upgrade|1000407| free|           1|          1|           1|            1|        1000407_1|        -1|\n",
      "|    Submit Downgrade|1000407| paid|          -1|          0|           0|            1|        1000407_1|        -1|\n",
      "|      Submit Upgrade|1000409| free|           1|          1|           1|            1|        1000409_1|         0|\n",
      "|      Submit Upgrade|1000446| free|           1|          1|           1|            1|        1000446_1|         0|\n",
      "+--------------------+-------+-----+------------+-----------+------------+-------------+-----------------+----------+\n",
      "only showing top 20 rows\n",
      "\n"
     ]
    }
   ],
   "source": [
    "df.where(f.col(\"level_change\")!=0).sort(\"userId\").select(\"page\", \"userId\", \"level\", \"level_change\",\"level_phase\",\"upgrade_flag\",\"upgrade_phase\",\"userId_paid_phase\",\"downgraded\").show()"
   ]
  },
  {
   "cell_type": "code",
   "execution_count": 295,
   "metadata": {},
   "outputs": [
    {
     "name": "stdout",
     "output_type": "stream",
     "text": [
      "+----------+\n",
      "|downgraded|\n",
      "+----------+\n",
      "|        -1|\n",
      "|         0|\n",
      "|         1|\n",
      "+----------+\n",
      "\n"
     ]
    }
   ],
   "source": [
    "df.select(\"downgraded\").distinct().show()"
   ]
  },
  {
   "cell_type": "code",
   "execution_count": 296,
   "metadata": {},
   "outputs": [
    {
     "name": "stdout",
     "output_type": "stream",
     "text": [
      "+-------------+--------------+-------+-----+------------+-----------+------------+-------------+-----------------+----------+\n",
      "|           ts|          page| userId|level|level_change|level_phase|upgrade_flag|upgrade_phase|userId_paid_phase|downgraded|\n",
      "+-------------+--------------+-------+-----+------------+-----------+------------+-------------+-----------------+----------+\n",
      "|1543620507000|Submit Upgrade|1977992| free|           1|          1|           1|            1|        1977992_1|         1|\n",
      "+-------------+--------------+-------+-----+------------+-----------+------------+-------------+-----------------+----------+\n",
      "\n"
     ]
    }
   ],
   "source": [
    "# wasn't expecting +1, would indicate there is a user that has upgraded their account and done nothing else since? investigate:\n",
    "df.where(f.col(\"downgraded\")==1).select(\"ts\", \"page\", \"userId\", \"level\", \"level_change\",\"level_phase\",\"upgrade_flag\",\"upgrade_phase\",\"userId_paid_phase\",\"downgraded\").show()"
   ]
  },
  {
   "cell_type": "code",
   "execution_count": 297,
   "metadata": {},
   "outputs": [
    {
     "name": "stdout",
     "output_type": "stream",
     "text": [
      "+------+---------+---------+------+-------------+--------+------+-----+--------------------+------+--------------+-------------+---------+----+------+-------------+--------------------+-------+\n",
      "|artist|     auth|firstName|gender|itemInSession|lastName|length|level|            location|method|          page| registration|sessionId|song|status|           ts|           userAgent| userId|\n",
      "+------+---------+---------+------+-------------+--------+------+-----+--------------------+------+--------------+-------------+---------+----+------+-------------+--------------------+-------+\n",
      "|  null|Logged In| Madeline|     F|           37|   Allen|  null| free|Boston-Cambridge-...|   PUT|Submit Upgrade|1536215037000|   235550|null|   307|1543620507000|\"Mozilla/5.0 (Mac...|1977992|\n",
      "+------+---------+---------+------+-------------+--------+------+-----+--------------------+------+--------------+-------------+---------+----+------+-------------+--------------------+-------+\n",
      "\n"
     ]
    }
   ],
   "source": [
    "# check_raw data for this user:\n",
    "raw_df.where((f.col(\"userId\")==1977992)&(f.col(\"ts\")>=1543620507000)).show()"
   ]
  },
  {
   "cell_type": "code",
   "execution_count": 298,
   "metadata": {},
   "outputs": [],
   "source": [
    "df = df.withColumn(\"downgraded\", f.when(f.col(\"downgraded\")==-1,1).otherwise(0))"
   ]
  },
  {
   "cell_type": "markdown",
   "metadata": {},
   "source": [
    "Now remove data that is not for \"paying\" users - i.e data when level was free, or \"level_phase\" < 1"
   ]
  },
  {
   "cell_type": "code",
   "execution_count": 299,
   "metadata": {},
   "outputs": [],
   "source": [
    "df = df.where(f.col(\"level_phase\")==1)"
   ]
  },
  {
   "cell_type": "code",
   "execution_count": 300,
   "metadata": {},
   "outputs": [
    {
     "name": "stdout",
     "output_type": "stream",
     "text": [
      "+-----------------+-------+-------+\n",
      "|userId_paid_phase|churned| userId|\n",
      "+-----------------+-------+-------+\n",
      "|        1000025_1|      1|1000025|\n",
      "|        1000035_1|      0|1000035|\n",
      "|        1000083_1|      1|1000083|\n",
      "|        1000103_1|      0|1000103|\n",
      "|        1000164_1|      0|1000164|\n",
      "|        1000168_1|      0|1000168|\n",
      "|        1000182_1|      0|1000182|\n",
      "|        1000214_1|      1|1000214|\n",
      "|        1000214_2|      0|1000214|\n",
      "|        1000233_1|      0|1000233|\n",
      "|        1000280_1|      1|1000280|\n",
      "|        1000407_1|      1|1000407|\n",
      "|        1000409_1|      0|1000409|\n",
      "|        1000446_1|      0|1000446|\n",
      "|        1000527_1|      1|1000527|\n",
      "|        1000611_1|      0|1000611|\n",
      "|        1000625_1|      0|1000625|\n",
      "|        1000885_1|      1|1000885|\n",
      "|        1000963_1|      0|1000963|\n",
      "|        1001027_1|      1|1001027|\n",
      "+-----------------+-------+-------+\n",
      "only showing top 20 rows\n",
      "\n"
     ]
    }
   ],
   "source": [
    "# Review the dataframe we have so far:\n",
    "# number of unique times a user has had a period they have been a \"paying\" customer\n",
    "# number of those periods where users have churned back to free\n",
    "feature_df = df.groupBy(\"userId_paid_phase\").agg(f.max(\"downgraded\").alias(\"churned\"), f.max(\"userId\").alias(\"userId\"))\n",
    "feature_df.show()\n",
    "\n",
    "#f.countDistinct(\"userId\").alias(\"distinct_count_userId\")).sort(f.desc(\"distinct_count_userId\"))"
   ]
  },
  {
   "cell_type": "code",
   "execution_count": 301,
   "metadata": {},
   "outputs": [
    {
     "name": "stdout",
     "output_type": "stream",
     "text": [
      "Number of \"paying periods\" in data: 15135\n",
      "Number of \"churns\" from paid to free/cancelled in data: 7518\n",
      "Number of paying periods that didn't churn: 7617 \n",
      "Number of unique users in the data: 12082\n"
     ]
    }
   ],
   "source": [
    "print(f'Number of \"paying periods\" in data: {feature_df.count()}')\n",
    "print(f'Number of \"churns\" from paid to free/cancelled in data: {feature_df.where(f.col(\"churned\")==1).count()}')\n",
    "print(f'Number of paying periods that didn\\'t churn: {feature_df.where(f.col(\"churned\")==0).count()} ')\n",
    "print(f'Number of unique users in the data: {feature_df.select(\"userId\").distinct().count()}')\n",
    "      "
   ]
  },
  {
   "cell_type": "code",
   "execution_count": 302,
   "metadata": {},
   "outputs": [
    {
     "name": "stdout",
     "output_type": "stream",
     "text": [
      "+-------+---------------------+------------+\n",
      "| userId|distinct_count_userId|min(churned)|\n",
      "+-------+---------------------+------------+\n",
      "|1662781|                    8|           0|\n",
      "|1747195|                    7|           0|\n",
      "|1343763|                    6|           1|\n",
      "|1782082|                    6|           0|\n",
      "|1345577|                    6|           0|\n",
      "|1255222|                    6|           0|\n",
      "|1287039|                    6|           1|\n",
      "|1663631|                    6|           0|\n",
      "|1481390|                    5|           1|\n",
      "|1581951|                    5|           0|\n",
      "|1876006|                    5|           1|\n",
      "|1560520|                    5|           0|\n",
      "|1829405|                    5|           0|\n",
      "|1830709|                    5|           0|\n",
      "|1839740|                    5|           0|\n",
      "|1576041|                    5|           1|\n",
      "|1647612|                    5|           1|\n",
      "|1384631|                    5|           0|\n",
      "|1662255|                    5|           0|\n",
      "|1766016|                    5|           0|\n",
      "+-------+---------------------+------------+\n",
      "only showing top 20 rows\n",
      "\n"
     ]
    }
   ],
   "source": [
    "feature_df.groupBy(\"userId\").agg(f.count(\"userId\").alias(\"distinct_count_userId\"), f.min(\"churned\")).sort(f.desc(\"distinct_count_userId\")).show()"
   ]
  },
  {
   "cell_type": "code",
   "execution_count": 303,
   "metadata": {},
   "outputs": [
    {
     "name": "stdout",
     "output_type": "stream",
     "text": [
      "+-------+----------------+-------------+\n",
      "| userId|            page|           ts|\n",
      "+-------+----------------+-------------+\n",
      "|1662781|  Submit Upgrade|1538760911000|\n",
      "|1662781|Submit Downgrade|1538951120000|\n",
      "|1662781|  Submit Upgrade|1539021098000|\n",
      "|1662781|Submit Downgrade|1539580774000|\n",
      "|1662781|  Submit Upgrade|1539621519000|\n",
      "|1662781|Submit Downgrade|1539974204000|\n",
      "|1662781|  Submit Upgrade|1540066454000|\n",
      "|1662781|Submit Downgrade|1540826630000|\n",
      "|1662781|  Submit Upgrade|1541394938000|\n",
      "|1662781|Submit Downgrade|1542246698000|\n",
      "|1662781|  Submit Upgrade|1542459805000|\n",
      "|1662781|Submit Downgrade|1542891355000|\n",
      "|1662781|  Submit Upgrade|1543109911000|\n",
      "|1662781|Submit Downgrade|1543256882000|\n",
      "|1662781|  Submit Upgrade|1543474985000|\n",
      "+-------+----------------+-------------+\n",
      "\n"
     ]
    }
   ],
   "source": [
    "# so one user has upgraded at least 8 times, and in our data are \"currently\" paying users. Maybe how many times they have downgraded before could also be a factor\n",
    "raw_df.select(\"userId\", \"page\", \"ts\").where((f.col(\"page\").isin([\"Submit Upgrade\", \"Submit Downgrade\", \"cancellation Confirmation\"]))&(f.col(\"userId\")==1662781)).sort(\"userId\", \"ts\").show()"
   ]
  },
  {
   "cell_type": "markdown",
   "metadata": {},
   "source": [
    "Hence our goal is to predict which of the 7617 paying users we have are next to downgrade / cancel."
   ]
  },
  {
   "cell_type": "markdown",
   "metadata": {},
   "source": [
    "# Feature Extraction \n",
    "I first brainstorm possible features to investigate:\n",
    "\n",
    " - Number of unique artists listened  (ever / over a period)\n",
    " - gender column\n",
    " - itemInSession column\n",
    " - Many from the pages column:\n",
    "    - number of songs played (ever / over a period)\n",
    "    - number of thumbs up (ever / over a period) \n",
    "    - number of thumbs down (ever / over a period)\n",
    "    - number of visits to the downgrade and or cancel page (ever / over a period)\n",
    "    - number of visits to the help page\n",
    "    - number of HTTP errors (404 codes)\n",
    "\n",
    " - Number of times the user has churned previously\n",
    "\n",
    " I will then look at these to see if a model might be able to use them to differentiate between users about\n",
    " to downgrade and those that are not.\n"
   ]
  },
  {
   "cell_type": "markdown",
   "metadata": {},
   "source": [
    "## Unique Artists"
   ]
  },
  {
   "cell_type": "code",
   "execution_count": 305,
   "metadata": {},
   "outputs": [
    {
     "name": "stdout",
     "output_type": "stream",
     "text": [
      "+-----------------+-------+-------+-------------------+\n",
      "|userId_paid_phase|churned| userId|unique_artist_count|\n",
      "+-----------------+-------+-------+-------------------+\n",
      "|        1065127_2|      1|1065127|                  0|\n",
      "|        1163481_1|      0|1163481|                  0|\n",
      "|        1072528_1|      0|1072528|                  0|\n",
      "|        1021019_1|      1|1021019|                  0|\n",
      "|        1115002_1|      1|1115002|                  0|\n",
      "+-----------------+-------+-------+-------------------+\n",
      "only showing top 5 rows\n",
      "\n",
      "+-----------------+-------+-------+-------------------+\n",
      "|userId_paid_phase|churned| userId|unique_artist_count|\n",
      "+-----------------+-------+-------+-------------------+\n",
      "|        1478099_1|      0|1478099|               3607|\n",
      "|        1604861_2|      1|1604861|               3579|\n",
      "|        1165912_1|      1|1165912|               3345|\n",
      "|        1937373_1|      1|1937373|               3295|\n",
      "|        1979129_2|      0|1979129|               3247|\n",
      "+-----------------+-------+-------+-------------------+\n",
      "only showing top 5 rows\n",
      "\n"
     ]
    }
   ],
   "source": [
    "df_unique_artists = df.groupby(\"userId_paid_phase\").agg(f.countDistinct(\"artist\").alias(\"unique_artist_count\"))\n",
    "feature_df = feature_df.join(df_unique_artists, on=\"userId_paid_phase\", how=\"left\")\n",
    "feature_df.sort(\"unique_artist_count\").show(5)\n",
    "feature_df.sort(f.desc(\"unique_artist_count\")).show(5)"
   ]
  },
  {
   "cell_type": "code",
   "execution_count": 306,
   "metadata": {},
   "outputs": [],
   "source": [
    "# Plot some results\n",
    "feature_pdf = feature_df.toPandas()"
   ]
  },
  {
   "cell_type": "code",
   "execution_count": 307,
   "metadata": {},
   "outputs": [
    {
     "data": {
      "text/html": [
       "<div>\n",
       "<style scoped>\n",
       "    .dataframe tbody tr th:only-of-type {\n",
       "        vertical-align: middle;\n",
       "    }\n",
       "\n",
       "    .dataframe tbody tr th {\n",
       "        vertical-align: top;\n",
       "    }\n",
       "\n",
       "    .dataframe thead th {\n",
       "        text-align: right;\n",
       "    }\n",
       "</style>\n",
       "<table border=\"1\" class=\"dataframe\">\n",
       "  <thead>\n",
       "    <tr style=\"text-align: right;\">\n",
       "      <th></th>\n",
       "      <th>userId_paid_phase</th>\n",
       "      <th>churned</th>\n",
       "      <th>userId</th>\n",
       "      <th>unique_artist_count</th>\n",
       "    </tr>\n",
       "  </thead>\n",
       "  <tbody>\n",
       "    <tr>\n",
       "      <th>0</th>\n",
       "      <td>1000025_1</td>\n",
       "      <td>1</td>\n",
       "      <td>1000025</td>\n",
       "      <td>1140</td>\n",
       "    </tr>\n",
       "    <tr>\n",
       "      <th>1</th>\n",
       "      <td>1000035_1</td>\n",
       "      <td>0</td>\n",
       "      <td>1000035</td>\n",
       "      <td>854</td>\n",
       "    </tr>\n",
       "    <tr>\n",
       "      <th>2</th>\n",
       "      <td>1000083_1</td>\n",
       "      <td>1</td>\n",
       "      <td>1000083</td>\n",
       "      <td>299</td>\n",
       "    </tr>\n",
       "    <tr>\n",
       "      <th>3</th>\n",
       "      <td>1000103_1</td>\n",
       "      <td>0</td>\n",
       "      <td>1000103</td>\n",
       "      <td>36</td>\n",
       "    </tr>\n",
       "    <tr>\n",
       "      <th>4</th>\n",
       "      <td>1000164_1</td>\n",
       "      <td>0</td>\n",
       "      <td>1000164</td>\n",
       "      <td>617</td>\n",
       "    </tr>\n",
       "    <tr>\n",
       "      <th>...</th>\n",
       "      <td>...</td>\n",
       "      <td>...</td>\n",
       "      <td>...</td>\n",
       "      <td>...</td>\n",
       "    </tr>\n",
       "    <tr>\n",
       "      <th>15130</th>\n",
       "      <td>1999847_1</td>\n",
       "      <td>1</td>\n",
       "      <td>1999847</td>\n",
       "      <td>246</td>\n",
       "    </tr>\n",
       "    <tr>\n",
       "      <th>15131</th>\n",
       "      <td>1999848_1</td>\n",
       "      <td>1</td>\n",
       "      <td>1999848</td>\n",
       "      <td>213</td>\n",
       "    </tr>\n",
       "    <tr>\n",
       "      <th>15132</th>\n",
       "      <td>1999848_2</td>\n",
       "      <td>0</td>\n",
       "      <td>1999848</td>\n",
       "      <td>232</td>\n",
       "    </tr>\n",
       "    <tr>\n",
       "      <th>15133</th>\n",
       "      <td>1999908_1</td>\n",
       "      <td>1</td>\n",
       "      <td>1999908</td>\n",
       "      <td>27</td>\n",
       "    </tr>\n",
       "    <tr>\n",
       "      <th>15134</th>\n",
       "      <td>1999908_2</td>\n",
       "      <td>1</td>\n",
       "      <td>1999908</td>\n",
       "      <td>316</td>\n",
       "    </tr>\n",
       "  </tbody>\n",
       "</table>\n",
       "<p>15135 rows × 4 columns</p>\n",
       "</div>"
      ],
      "text/plain": [
       "      userId_paid_phase  churned   userId  unique_artist_count\n",
       "0             1000025_1        1  1000025                 1140\n",
       "1             1000035_1        0  1000035                  854\n",
       "2             1000083_1        1  1000083                  299\n",
       "3             1000103_1        0  1000103                   36\n",
       "4             1000164_1        0  1000164                  617\n",
       "...                 ...      ...      ...                  ...\n",
       "15130         1999847_1        1  1999847                  246\n",
       "15131         1999848_1        1  1999848                  213\n",
       "15132         1999848_2        0  1999848                  232\n",
       "15133         1999908_1        1  1999908                   27\n",
       "15134         1999908_2        1  1999908                  316\n",
       "\n",
       "[15135 rows x 4 columns]"
      ]
     },
     "execution_count": 307,
     "metadata": {},
     "output_type": "execute_result"
    }
   ],
   "source": [
    "feature_pdf"
   ]
  },
  {
   "cell_type": "code",
   "execution_count": 308,
   "metadata": {},
   "outputs": [
    {
     "data": {
      "text/html": [
       "<div>\n",
       "<style scoped>\n",
       "    .dataframe tbody tr th:only-of-type {\n",
       "        vertical-align: middle;\n",
       "    }\n",
       "\n",
       "    .dataframe tbody tr th {\n",
       "        vertical-align: top;\n",
       "    }\n",
       "\n",
       "    .dataframe thead tr th {\n",
       "        text-align: left;\n",
       "    }\n",
       "\n",
       "    .dataframe thead tr:last-of-type th {\n",
       "        text-align: right;\n",
       "    }\n",
       "</style>\n",
       "<table border=\"1\" class=\"dataframe\">\n",
       "  <thead>\n",
       "    <tr>\n",
       "      <th></th>\n",
       "      <th colspan=\"8\" halign=\"left\">unique_artist_count</th>\n",
       "    </tr>\n",
       "    <tr>\n",
       "      <th></th>\n",
       "      <th>count</th>\n",
       "      <th>mean</th>\n",
       "      <th>std</th>\n",
       "      <th>min</th>\n",
       "      <th>25%</th>\n",
       "      <th>50%</th>\n",
       "      <th>75%</th>\n",
       "      <th>max</th>\n",
       "    </tr>\n",
       "    <tr>\n",
       "      <th>churned</th>\n",
       "      <th></th>\n",
       "      <th></th>\n",
       "      <th></th>\n",
       "      <th></th>\n",
       "      <th></th>\n",
       "      <th></th>\n",
       "      <th></th>\n",
       "      <th></th>\n",
       "    </tr>\n",
       "  </thead>\n",
       "  <tbody>\n",
       "    <tr>\n",
       "      <th>0</th>\n",
       "      <td>7617.0</td>\n",
       "      <td>632.680320</td>\n",
       "      <td>524.975102</td>\n",
       "      <td>0.0</td>\n",
       "      <td>232.0</td>\n",
       "      <td>502.0</td>\n",
       "      <td>912.0</td>\n",
       "      <td>3607.0</td>\n",
       "    </tr>\n",
       "    <tr>\n",
       "      <th>1</th>\n",
       "      <td>7518.0</td>\n",
       "      <td>562.966081</td>\n",
       "      <td>510.265697</td>\n",
       "      <td>0.0</td>\n",
       "      <td>172.0</td>\n",
       "      <td>414.0</td>\n",
       "      <td>811.0</td>\n",
       "      <td>3579.0</td>\n",
       "    </tr>\n",
       "  </tbody>\n",
       "</table>\n",
       "</div>"
      ],
      "text/plain": [
       "        unique_artist_count                                                    \\\n",
       "                      count        mean         std  min    25%    50%    75%   \n",
       "churned                                                                         \n",
       "0                    7617.0  632.680320  524.975102  0.0  232.0  502.0  912.0   \n",
       "1                    7518.0  562.966081  510.265697  0.0  172.0  414.0  811.0   \n",
       "\n",
       "                 \n",
       "            max  \n",
       "churned          \n",
       "0        3607.0  \n",
       "1        3579.0  "
      ]
     },
     "execution_count": 308,
     "metadata": {},
     "output_type": "execute_result"
    }
   ],
   "source": [
    "feature_pdf.groupby(\"churned\").describe()"
   ]
  },
  {
   "cell_type": "code",
   "execution_count": 309,
   "metadata": {},
   "outputs": [],
   "source": [
    "feature_pdf[\"dummy\"]=\"\""
   ]
  },
  {
   "cell_type": "code",
   "execution_count": 310,
   "metadata": {},
   "outputs": [
    {
     "data": {
      "text/plain": [
       "<Axes: xlabel='dummy', ylabel='unique_artist_count'>"
      ]
     },
     "execution_count": 310,
     "metadata": {},
     "output_type": "execute_result"
    },
    {
     "data": {
      "image/png": "[encoded data removed]",
      "text/plain": [
       "<Figure size 640x480 with 1 Axes>"
      ]
     },
     "metadata": {},
     "output_type": "display_data"
    }
   ],
   "source": [
    "sns.violinplot(data=feature_pdf,y=\"unique_artist_count\", x=\"dummy\", hue=\"churned\", split=True)"
   ]
  },
  {
   "cell_type": "markdown",
   "metadata": {},
   "source": [
    "## Gender"
   ]
  },
  {
   "cell_type": "code",
   "execution_count": 311,
   "metadata": {},
   "outputs": [
    {
     "name": "stdout",
     "output_type": "stream",
     "text": [
      "+-----------------+-------+-------+-------------------+---------------+\n",
      "|userId_paid_phase|churned| userId|unique_artist_count|male_1_female_0|\n",
      "+-----------------+-------+-------+-------------------+---------------+\n",
      "|        1000025_1|      1|1000025|               1140|              1|\n",
      "|        1000035_1|      0|1000035|                854|              0|\n",
      "|        1000083_1|      1|1000083|                299|              1|\n",
      "|        1000103_1|      0|1000103|                 36|              0|\n",
      "|        1000164_1|      0|1000164|                617|              0|\n",
      "+-----------------+-------+-------+-------------------+---------------+\n",
      "only showing top 5 rows\n",
      "\n"
     ]
    }
   ],
   "source": [
    "df_gender = df.withColumn(\"gender_encoded_male_1\",f.when(f.col(\"gender\")==\"M\",1).otherwise(0)).groupby(\"userId_paid_phase\").agg(f.max(\"gender_encoded_male_1\").alias(\"male_1_female_0\"))\n",
    "feature_df = feature_df.join(df_gender, on=\"userId_paid_phase\", how=\"left\")\n",
    "feature_df.show(5)"
   ]
  },
  {
   "cell_type": "code",
   "execution_count": 312,
   "metadata": {},
   "outputs": [
    {
     "data": {
      "text/html": [
       "<div>\n",
       "<style scoped>\n",
       "    .dataframe tbody tr th:only-of-type {\n",
       "        vertical-align: middle;\n",
       "    }\n",
       "\n",
       "    .dataframe tbody tr th {\n",
       "        vertical-align: top;\n",
       "    }\n",
       "\n",
       "    .dataframe thead th {\n",
       "        text-align: right;\n",
       "    }\n",
       "</style>\n",
       "<table border=\"1\" class=\"dataframe\">\n",
       "  <thead>\n",
       "    <tr style=\"text-align: right;\">\n",
       "      <th></th>\n",
       "      <th>userId_paid_phase</th>\n",
       "      <th>churned</th>\n",
       "      <th>userId</th>\n",
       "      <th>unique_artist_count</th>\n",
       "      <th>male_1_female_0</th>\n",
       "    </tr>\n",
       "  </thead>\n",
       "  <tbody>\n",
       "    <tr>\n",
       "      <th>0</th>\n",
       "      <td>1000025_1</td>\n",
       "      <td>1</td>\n",
       "      <td>1000025</td>\n",
       "      <td>1140</td>\n",
       "      <td>1</td>\n",
       "    </tr>\n",
       "    <tr>\n",
       "      <th>1</th>\n",
       "      <td>1000035_1</td>\n",
       "      <td>0</td>\n",
       "      <td>1000035</td>\n",
       "      <td>854</td>\n",
       "      <td>0</td>\n",
       "    </tr>\n",
       "    <tr>\n",
       "      <th>2</th>\n",
       "      <td>1000083_1</td>\n",
       "      <td>1</td>\n",
       "      <td>1000083</td>\n",
       "      <td>299</td>\n",
       "      <td>1</td>\n",
       "    </tr>\n",
       "    <tr>\n",
       "      <th>3</th>\n",
       "      <td>1000103_1</td>\n",
       "      <td>0</td>\n",
       "      <td>1000103</td>\n",
       "      <td>36</td>\n",
       "      <td>0</td>\n",
       "    </tr>\n",
       "    <tr>\n",
       "      <th>4</th>\n",
       "      <td>1000164_1</td>\n",
       "      <td>0</td>\n",
       "      <td>1000164</td>\n",
       "      <td>617</td>\n",
       "      <td>0</td>\n",
       "    </tr>\n",
       "    <tr>\n",
       "      <th>...</th>\n",
       "      <td>...</td>\n",
       "      <td>...</td>\n",
       "      <td>...</td>\n",
       "      <td>...</td>\n",
       "      <td>...</td>\n",
       "    </tr>\n",
       "    <tr>\n",
       "      <th>15130</th>\n",
       "      <td>1999847_1</td>\n",
       "      <td>1</td>\n",
       "      <td>1999847</td>\n",
       "      <td>246</td>\n",
       "      <td>0</td>\n",
       "    </tr>\n",
       "    <tr>\n",
       "      <th>15131</th>\n",
       "      <td>1999848_1</td>\n",
       "      <td>1</td>\n",
       "      <td>1999848</td>\n",
       "      <td>213</td>\n",
       "      <td>1</td>\n",
       "    </tr>\n",
       "    <tr>\n",
       "      <th>15132</th>\n",
       "      <td>1999848_2</td>\n",
       "      <td>0</td>\n",
       "      <td>1999848</td>\n",
       "      <td>232</td>\n",
       "      <td>1</td>\n",
       "    </tr>\n",
       "    <tr>\n",
       "      <th>15133</th>\n",
       "      <td>1999908_1</td>\n",
       "      <td>1</td>\n",
       "      <td>1999908</td>\n",
       "      <td>27</td>\n",
       "      <td>1</td>\n",
       "    </tr>\n",
       "    <tr>\n",
       "      <th>15134</th>\n",
       "      <td>1999908_2</td>\n",
       "      <td>1</td>\n",
       "      <td>1999908</td>\n",
       "      <td>316</td>\n",
       "      <td>1</td>\n",
       "    </tr>\n",
       "  </tbody>\n",
       "</table>\n",
       "<p>15135 rows × 5 columns</p>\n",
       "</div>"
      ],
      "text/plain": [
       "      userId_paid_phase  churned   userId  unique_artist_count  \\\n",
       "0             1000025_1        1  1000025                 1140   \n",
       "1             1000035_1        0  1000035                  854   \n",
       "2             1000083_1        1  1000083                  299   \n",
       "3             1000103_1        0  1000103                   36   \n",
       "4             1000164_1        0  1000164                  617   \n",
       "...                 ...      ...      ...                  ...   \n",
       "15130         1999847_1        1  1999847                  246   \n",
       "15131         1999848_1        1  1999848                  213   \n",
       "15132         1999848_2        0  1999848                  232   \n",
       "15133         1999908_1        1  1999908                   27   \n",
       "15134         1999908_2        1  1999908                  316   \n",
       "\n",
       "       male_1_female_0  \n",
       "0                    1  \n",
       "1                    0  \n",
       "2                    1  \n",
       "3                    0  \n",
       "4                    0  \n",
       "...                ...  \n",
       "15130                0  \n",
       "15131                1  \n",
       "15132                1  \n",
       "15133                1  \n",
       "15134                1  \n",
       "\n",
       "[15135 rows x 5 columns]"
      ]
     },
     "execution_count": 312,
     "metadata": {},
     "output_type": "execute_result"
    }
   ],
   "source": [
    "feature_pdf = feature_df.toPandas()\n",
    "feature_pdf"
   ]
  },
  {
   "cell_type": "code",
   "execution_count": 313,
   "metadata": {},
   "outputs": [
    {
     "data": {
      "text/html": [
       "<div>\n",
       "<style scoped>\n",
       "    .dataframe tbody tr th:only-of-type {\n",
       "        vertical-align: middle;\n",
       "    }\n",
       "\n",
       "    .dataframe tbody tr th {\n",
       "        vertical-align: top;\n",
       "    }\n",
       "\n",
       "    .dataframe thead th {\n",
       "        text-align: right;\n",
       "    }\n",
       "</style>\n",
       "<table border=\"1\" class=\"dataframe\">\n",
       "  <thead>\n",
       "    <tr style=\"text-align: right;\">\n",
       "      <th></th>\n",
       "      <th>total_count</th>\n",
       "      <th>churned_count</th>\n",
       "    </tr>\n",
       "    <tr>\n",
       "      <th>male_1_female_0</th>\n",
       "      <th></th>\n",
       "      <th></th>\n",
       "    </tr>\n",
       "  </thead>\n",
       "  <tbody>\n",
       "    <tr>\n",
       "      <th>0</th>\n",
       "      <td>7246</td>\n",
       "      <td>3611</td>\n",
       "    </tr>\n",
       "    <tr>\n",
       "      <th>1</th>\n",
       "      <td>7889</td>\n",
       "      <td>3907</td>\n",
       "    </tr>\n",
       "  </tbody>\n",
       "</table>\n",
       "</div>"
      ],
      "text/plain": [
       "                 total_count  churned_count\n",
       "male_1_female_0                            \n",
       "0                       7246           3611\n",
       "1                       7889           3907"
      ]
     },
     "execution_count": 313,
     "metadata": {},
     "output_type": "execute_result"
    }
   ],
   "source": [
    "# Look at the percentage of each gender that churn?\n",
    "gender_summary_pdf = feature_pdf.groupby(\"male_1_female_0\").apply(lambda x: pd.Series({\"total_count\":x[\"churned\"].count(), \"churned_count\":x[\"churned\"].sum()}))\n",
    "gender_summary_pdf"
   ]
  },
  {
   "cell_type": "code",
   "execution_count": 314,
   "metadata": {},
   "outputs": [
    {
     "data": {
      "text/html": [
       "<div>\n",
       "<style scoped>\n",
       "    .dataframe tbody tr th:only-of-type {\n",
       "        vertical-align: middle;\n",
       "    }\n",
       "\n",
       "    .dataframe tbody tr th {\n",
       "        vertical-align: top;\n",
       "    }\n",
       "\n",
       "    .dataframe thead th {\n",
       "        text-align: right;\n",
       "    }\n",
       "</style>\n",
       "<table border=\"1\" class=\"dataframe\">\n",
       "  <thead>\n",
       "    <tr style=\"text-align: right;\">\n",
       "      <th></th>\n",
       "      <th>total_count</th>\n",
       "      <th>churned_count</th>\n",
       "      <th>pct_churn</th>\n",
       "    </tr>\n",
       "    <tr>\n",
       "      <th>male_1_female_0</th>\n",
       "      <th></th>\n",
       "      <th></th>\n",
       "      <th></th>\n",
       "    </tr>\n",
       "  </thead>\n",
       "  <tbody>\n",
       "    <tr>\n",
       "      <th>0</th>\n",
       "      <td>7246</td>\n",
       "      <td>3611</td>\n",
       "      <td>49.834391</td>\n",
       "    </tr>\n",
       "    <tr>\n",
       "      <th>1</th>\n",
       "      <td>7889</td>\n",
       "      <td>3907</td>\n",
       "      <td>49.524655</td>\n",
       "    </tr>\n",
       "  </tbody>\n",
       "</table>\n",
       "</div>"
      ],
      "text/plain": [
       "                 total_count  churned_count  pct_churn\n",
       "male_1_female_0                                       \n",
       "0                       7246           3611  49.834391\n",
       "1                       7889           3907  49.524655"
      ]
     },
     "execution_count": 314,
     "metadata": {},
     "output_type": "execute_result"
    }
   ],
   "source": [
    "gender_summary_pdf[\"pct_churn\"] = gender_summary_pdf.churned_count / gender_summary_pdf.total_count * 100\n",
    "gender_summary_pdf"
   ]
  },
  {
   "cell_type": "code",
   "execution_count": 315,
   "metadata": {},
   "outputs": [
    {
     "data": {
      "text/plain": [
       "49.67294350842418"
      ]
     },
     "execution_count": 315,
     "metadata": {},
     "output_type": "execute_result"
    }
   ],
   "source": [
    "(3611+3907)/(7246+7889)*100"
   ]
  },
  {
   "cell_type": "markdown",
   "metadata": {},
   "source": [
    "The percentage of users that have churned is 49.7%, and that varies very minimally for different genders. It is tempting to omit gender as a feature, but it could be that when combined with other features it is useful in making predictions."
   ]
  },
  {
   "cell_type": "markdown",
   "metadata": {},
   "source": [
    "## itemIn Session Column"
   ]
  },
  {
   "cell_type": "code",
   "execution_count": 316,
   "metadata": {},
   "outputs": [
    {
     "name": "stdout",
     "output_type": "stream",
     "text": [
      "+-------+-----------------+-------------+-------------+--------------+\n",
      "| userId|userId_paid_phase|           ts|itemInSession|          page|\n",
      "+-------+-----------------+-------------+-------------+--------------+\n",
      "|1000025|        1000025_1|1538510602000|           31|Submit Upgrade|\n",
      "|1000025|        1000025_1|1538510666000|           32|          Home|\n",
      "|1000025|        1000025_1|1538511056000|           33|      NextSong|\n",
      "|1000025|        1000025_1|1538511302000|           34|      NextSong|\n",
      "|1000025|        1000025_1|1538511796000|           35|      NextSong|\n",
      "|1000025|        1000025_1|1538512067000|           36|      NextSong|\n",
      "|1000025|        1000025_1|1538512276000|           37|      NextSong|\n",
      "|1000025|        1000025_1|1538512560000|           38|      NextSong|\n",
      "|1000025|        1000025_1|1538512898000|           39|      NextSong|\n",
      "|1000025|        1000025_1|1538513160000|           40|      NextSong|\n",
      "|1000025|        1000025_1|1538513161000|           41|     Thumbs Up|\n",
      "|1000025|        1000025_1|1538513407000|           42|      NextSong|\n",
      "|1000025|        1000025_1|1538513604000|           43|      NextSong|\n",
      "|1000025|        1000025_1|1538513895000|           44|      NextSong|\n",
      "|1000025|        1000025_1|1538514127000|           45|      NextSong|\n",
      "|1000025|        1000025_1|1538514389000|           46|      NextSong|\n",
      "|1000025|        1000025_1|1538514390000|           47|     Thumbs Up|\n",
      "|1000025|        1000025_1|1538514630000|           48|      NextSong|\n",
      "|1000025|        1000025_1|1538514853000|           49|      NextSong|\n",
      "|1000025|        1000025_1|1538515162000|           50|      NextSong|\n",
      "+-------+-----------------+-------------+-------------+--------------+\n",
      "only showing top 20 rows\n",
      "\n"
     ]
    }
   ],
   "source": [
    "# Understand how this column works:\n",
    "df.sort(\"userId_paid_phase\").select(\"userId\", \"userId_paid_phase\", \"ts\", \"itemInSession\", \"page\").show()"
   ]
  },
  {
   "cell_type": "code",
   "execution_count": 317,
   "metadata": {},
   "outputs": [
    {
     "name": "stdout",
     "output_type": "stream",
     "text": [
      "+-----------------+-----------------------+\n",
      "|userId_paid_phase|items_in_session_counts|\n",
      "+-----------------+-----------------------+\n",
      "|        1000025_1|                    118|\n",
      "|        1000025_1|                    277|\n",
      "|        1000025_1|                      7|\n",
      "|        1000025_1|                    156|\n",
      "|        1000025_1|                     98|\n",
      "+-----------------+-----------------------+\n",
      "only showing top 5 rows\n",
      "\n"
     ]
    }
   ],
   "source": [
    "# Can see each row increments the itemInSession count by 1, wheras I am interested in the total\n",
    "# number of items in each session, i.e. the \"peaks\" of the values before they drop down again.\n",
    "w = Window.partitionBy(\"userId_paid_phase\").orderBy(\"ts\")\n",
    "last_row_window = Window.partitionBy(\"userId_paid_phase\",).orderBy(f.desc('ts'))\n",
    "\n",
    "df_max_items_in_sessions = (\n",
    "    df\n",
    "    .sort(\"userId_paid_phase\")\n",
    "    .select(\"userId\", \"userId_paid_phase\", \"ts\", \"itemInSession\", \"page\")\n",
    "    .withColumn(\"prev_item\",f.lag(\"itemInSession\").over(w))\n",
    "    .withColumn(\"item_minus_prev\",f.col(\"itemInSession\")-f.col(\"prev_item\"))\n",
    "    .withColumn(\"row_num\", f.row_number().over(last_row_window))\n",
    "    .where((f.col(\"item_minus_prev\")<1) | (f.col(\"row_num\")==1))\n",
    "    .select(\"userId_paid_phase\",f.col(\"prev_item\").alias(\"items_in_session_counts\"))\n",
    ")\n",
    "df_max_items_in_sessions.show(5)\n",
    "\n",
    "#.where(f.col(\"item_minus_prev\")<1).select(\"\",f.col(\"prev_item\").alias(\"session_peaks\")).show()\n",
    "\n",
    "# Note, the count for the last row is off by 1 (as we take the previous row value) but should\n",
    "# be good enough as these numbers are comparitvely large and have spent excessive time already."
   ]
  },
  {
   "cell_type": "code",
   "execution_count": 318,
   "metadata": {},
   "outputs": [
    {
     "name": "stdout",
     "output_type": "stream",
     "text": [
      "+-----------------+-----------------------+\n",
      "|userId_paid_phase|items_in_session_counts|\n",
      "+-----------------+-----------------------+\n",
      "|        1999908_1|                     36|\n",
      "+-----------------+-----------------------+\n",
      "\n"
     ]
    }
   ],
   "source": [
    "#also need to keep last row per paid period?\n",
    "df_max_items_in_sessions.where(f.col(\"userId_paid_phase\")==\"1999908_1\").show()"
   ]
  },
  {
   "cell_type": "code",
   "execution_count": 319,
   "metadata": {},
   "outputs": [
    {
     "name": "stdout",
     "output_type": "stream",
     "text": [
      "+--------------------+---------+---------+------+-------------+--------+---------+-----+--------------------+------+--------------+-------------+---------+--------------------+------+-------------+--------------------+-------+------------+-----------+------------+-------------+-----------------+----------+\n",
      "|              artist|     auth|firstName|gender|itemInSession|lastName|   length|level|            location|method|          page| registration|sessionId|                song|status|           ts|           userAgent| userId|level_change|level_phase|upgrade_flag|upgrade_phase|userId_paid_phase|downgraded|\n",
      "+--------------------+---------+---------+------+-------------+--------+---------+-----+--------------------+------+--------------+-------------+---------+--------------------+------+-------------+--------------------+-------+------------+-----------+------------+-------------+-----------------+----------+\n",
      "|                null|Logged In|    Brody|     M|            4|    King|     null| free|San Jose-Sunnyval...|   PUT|Submit Upgrade|1537180263000|    11045|                null|   307|1539281621000|\"Mozilla/5.0 (Win...|1999908|           1|          1|           1|            1|        1999908_1|         1|\n",
      "|                null|Logged In|    Brody|     M|            5|    King|     null| paid|San Jose-Sunnyval...|   GET|          Home|1537180263000|    11045|                null|   200|1539281637000|\"Mozilla/5.0 (Win...|1999908|           0|          1|           0|            1|        1999908_1|         1|\n",
      "|      Base Ball Bear|Logged In|    Brody|     M|            6|    King|255.60771| paid|San Jose-Sunnyval...|   PUT|      NextSong|1537180263000|    11045|  Sayonara-Nostalgia|   200|1539281637000|\"Mozilla/5.0 (Win...|1999908|           0|          1|           0|            1|        1999908_1|         1|\n",
      "|           Ben Folds|Logged In|    Brody|     M|            7|    King| 53.83791| paid|San Jose-Sunnyval...|   PUT|      NextSong|1537180263000|    11045|      Before Cologne|   200|1539281892000|\"Mozilla/5.0 (Win...|1999908|           0|          1|           0|            1|        1999908_1|         1|\n",
      "|The All-American ...|Logged In|    Brody|     M|            8|    King|213.08036| paid|San Jose-Sunnyval...|   PUT|      NextSong|1537180263000|    11045|      Gives You Hell|   200|1539281945000|\"Mozilla/5.0 (Win...|1999908|           0|          1|           0|            1|        1999908_1|         1|\n",
      "|              Eminem|Logged In|    Brody|     M|            9|    King|284.86485| paid|San Jose-Sunnyval...|   PUT|      NextSong|1537180263000|    11045| The Real Slim Shady|   200|1539282158000|\"Mozilla/5.0 (Win...|1999908|           0|          1|           0|            1|        1999908_1|         1|\n",
      "|           The Corrs|Logged In|    Brody|     M|           10|    King|273.84118| paid|San Jose-Sunnyval...|   PUT|      NextSong|1537180263000|    11045|  Say ( LP Version )|   200|1539282442000|\"Mozilla/5.0 (Win...|1999908|           0|          1|           0|            1|        1999908_1|         1|\n",
      "|           Helloween|Logged In|    Brody|     M|           11|    King|357.04118| paid|San Jose-Sunnyval...|   PUT|      NextSong|1537180263000|    11045|          Dreambound|   200|1539282715000|\"Mozilla/5.0 (Win...|1999908|           0|          1|           0|            1|        1999908_1|         1|\n",
      "|      Ray LaMontagne|Logged In|    Brody|     M|           12|    King|344.86812| paid|San Jose-Sunnyval...|   PUT|      NextSong|1537180263000|    11045|   Forever My Friend|   200|1539283072000|\"Mozilla/5.0 (Win...|1999908|           0|          1|           0|            1|        1999908_1|         1|\n",
      "|           Daft Punk|Logged In|    Brody|     M|           13|    King|344.94649| paid|San Jose-Sunnyval...|   PUT|      NextSong|1537180263000|    11045|         Veridis Quo|   200|1539283416000|\"Mozilla/5.0 (Win...|1999908|           0|          1|           0|            1|        1999908_1|         1|\n",
      "|           Radiohead|Logged In|    Brody|     M|           14|    King|161.59302| paid|San Jose-Sunnyval...|   PUT|      NextSong|1537180263000|    11045|  Thinking About You|   200|1539283760000|\"Mozilla/5.0 (Win...|1999908|           0|          1|           0|            1|        1999908_1|         1|\n",
      "|        3 Doors Down|Logged In|    Brody|     M|           15|    King|237.13914| paid|San Jose-Sunnyval...|   PUT|      NextSong|1537180263000|    11045|    Here Without You|   200|1539283921000|\"Mozilla/5.0 (Win...|1999908|           0|          1|           0|            1|        1999908_1|         1|\n",
      "|              Pixies|Logged In|    Brody|     M|           16|    King| 229.3024| paid|San Jose-Sunnyval...|   PUT|      NextSong|1537180263000|    11045|   Where Is My Mind?|   200|1539284158000|\"Mozilla/5.0 (Win...|1999908|           0|          1|           0|            1|        1999908_1|         1|\n",
      "|    Ludovico Einaudi|Logged In|    Brody|     M|           17|    King|357.66812| paid|San Jose-Sunnyval...|   PUT|      NextSong|1537180263000|    11045|      Nuvole Bianche|   200|1539284387000|\"Mozilla/5.0 (Win...|1999908|           0|          1|           0|            1|        1999908_1|         1|\n",
      "|           Autoramas|Logged In|    Brody|     M|           18|    King|158.92853| paid|San Jose-Sunnyval...|   PUT|      NextSong|1537180263000|    11045|     Hotel cervantes|   200|1539284744000|\"Mozilla/5.0 (Win...|1999908|           0|          1|           0|            1|        1999908_1|         1|\n",
      "|           She & Him|Logged In|    Brody|     M|           19|    King|134.32118| paid|San Jose-Sunnyval...|   PUT|      NextSong|1537180263000|    11045|          Black Hole|   200|1539284902000|\"Mozilla/5.0 (Win...|1999908|           0|          1|           0|            1|        1999908_1|         1|\n",
      "|         Bryan Adams|Logged In|    Brody|     M|           20|    King|184.73751| paid|San Jose-Sunnyval...|   PUT|      NextSong|1537180263000|    11045|     Kids Wanna Rock|   200|1539285036000|\"Mozilla/5.0 (Win...|1999908|           0|          1|           0|            1|        1999908_1|         1|\n",
      "|Kanye West / Nas ...|Logged In|    Brody|     M|           21|    King|448.57424| paid|San Jose-Sunnyval...|   PUT|      NextSong|1537180263000|    11045|            We Major|   200|1539285220000|\"Mozilla/5.0 (Win...|1999908|           0|          1|           0|            1|        1999908_1|         1|\n",
      "|Crosby_ Stills & ...|Logged In|    Brody|     M|           22|    King| 317.6224| paid|San Jose-Sunnyval...|   PUT|      NextSong|1537180263000|    11045|Cathedral   (LP V...|   200|1539285668000|\"Mozilla/5.0 (Win...|1999908|           0|          1|           0|            1|        1999908_1|         1|\n",
      "|           Radiohead|Logged In|    Brody|     M|           23|    King|259.29098| paid|San Jose-Sunnyval...|   PUT|      NextSong|1537180263000|    11045|        Planet Telex|   200|1539285985000|\"Mozilla/5.0 (Win...|1999908|           0|          1|           0|            1|        1999908_1|         1|\n",
      "+--------------------+---------+---------+------+-------------+--------+---------+-----+--------------------+------+--------------+-------------+---------+--------------------+------+-------------+--------------------+-------+------------+-----------+------------+-------------+-----------------+----------+\n",
      "only showing top 20 rows\n",
      "\n"
     ]
    }
   ],
   "source": [
    "df.where(f.col(\"userId_paid_phase\")==\"1999908_1\").show()"
   ]
  },
  {
   "cell_type": "code",
   "execution_count": 320,
   "metadata": {},
   "outputs": [],
   "source": [
    "# Possible improvement option to investigate in the future - if should \"reset\" the item count at the start of a paid session, or keep both."
   ]
  },
  {
   "cell_type": "code",
   "execution_count": 321,
   "metadata": {},
   "outputs": [],
   "source": [
    "df_itemInSession = df_max_items_in_sessions.groupby(\"userId_paid_phase\").agg(f.mean(\"items_in_session_counts\").alias(\"mean(items_in_session_counts)\"))"
   ]
  },
  {
   "cell_type": "code",
   "execution_count": 322,
   "metadata": {},
   "outputs": [
    {
     "name": "stdout",
     "output_type": "stream",
     "text": [
      "+-----------------+-------+-------+-------------------+---------------+-----------------------------+\n",
      "|userId_paid_phase|churned| userId|unique_artist_count|male_1_female_0|mean(items_in_session_counts)|\n",
      "+-----------------+-------+-------+-------------------+---------------+-----------------------------+\n",
      "|        1000025_1|      1|1000025|               1140|              1|                      126.625|\n",
      "|        1000035_1|      0|1000035|                854|              0|            84.27777777777777|\n",
      "+-----------------+-------+-------+-------------------+---------------+-----------------------------+\n",
      "only showing top 2 rows\n",
      "\n"
     ]
    }
   ],
   "source": [
    "feature_df = feature_df.join(df_itemInSession, on=\"userId_paid_phase\", how=\"left\")\n",
    "feature_df.show(2)"
   ]
  },
  {
   "cell_type": "code",
   "execution_count": 323,
   "metadata": {},
   "outputs": [
    {
     "data": {
      "text/html": [
       "<div>\n",
       "<style scoped>\n",
       "    .dataframe tbody tr th:only-of-type {\n",
       "        vertical-align: middle;\n",
       "    }\n",
       "\n",
       "    .dataframe tbody tr th {\n",
       "        vertical-align: top;\n",
       "    }\n",
       "\n",
       "    .dataframe thead th {\n",
       "        text-align: right;\n",
       "    }\n",
       "</style>\n",
       "<table border=\"1\" class=\"dataframe\">\n",
       "  <thead>\n",
       "    <tr style=\"text-align: right;\">\n",
       "      <th></th>\n",
       "      <th>userId_paid_phase</th>\n",
       "      <th>churned</th>\n",
       "      <th>userId</th>\n",
       "      <th>unique_artist_count</th>\n",
       "      <th>male_1_female_0</th>\n",
       "      <th>mean(items_in_session_counts)</th>\n",
       "    </tr>\n",
       "  </thead>\n",
       "  <tbody>\n",
       "    <tr>\n",
       "      <th>0</th>\n",
       "      <td>1000025_1</td>\n",
       "      <td>1</td>\n",
       "      <td>1000025</td>\n",
       "      <td>1140</td>\n",
       "      <td>1</td>\n",
       "      <td>126.625000</td>\n",
       "    </tr>\n",
       "    <tr>\n",
       "      <th>1</th>\n",
       "      <td>1000035_1</td>\n",
       "      <td>0</td>\n",
       "      <td>1000035</td>\n",
       "      <td>854</td>\n",
       "      <td>0</td>\n",
       "      <td>84.277778</td>\n",
       "    </tr>\n",
       "    <tr>\n",
       "      <th>2</th>\n",
       "      <td>1000083_1</td>\n",
       "      <td>1</td>\n",
       "      <td>1000083</td>\n",
       "      <td>299</td>\n",
       "      <td>1</td>\n",
       "      <td>97.600000</td>\n",
       "    </tr>\n",
       "    <tr>\n",
       "      <th>3</th>\n",
       "      <td>1000103_1</td>\n",
       "      <td>0</td>\n",
       "      <td>1000103</td>\n",
       "      <td>36</td>\n",
       "      <td>0</td>\n",
       "      <td>23.750000</td>\n",
       "    </tr>\n",
       "    <tr>\n",
       "      <th>4</th>\n",
       "      <td>1000164_1</td>\n",
       "      <td>0</td>\n",
       "      <td>1000164</td>\n",
       "      <td>617</td>\n",
       "      <td>0</td>\n",
       "      <td>91.545455</td>\n",
       "    </tr>\n",
       "    <tr>\n",
       "      <th>...</th>\n",
       "      <td>...</td>\n",
       "      <td>...</td>\n",
       "      <td>...</td>\n",
       "      <td>...</td>\n",
       "      <td>...</td>\n",
       "      <td>...</td>\n",
       "    </tr>\n",
       "    <tr>\n",
       "      <th>15130</th>\n",
       "      <td>1999847_1</td>\n",
       "      <td>1</td>\n",
       "      <td>1999847</td>\n",
       "      <td>246</td>\n",
       "      <td>0</td>\n",
       "      <td>123.000000</td>\n",
       "    </tr>\n",
       "    <tr>\n",
       "      <th>15131</th>\n",
       "      <td>1999848_1</td>\n",
       "      <td>1</td>\n",
       "      <td>1999848</td>\n",
       "      <td>213</td>\n",
       "      <td>1</td>\n",
       "      <td>150.000000</td>\n",
       "    </tr>\n",
       "    <tr>\n",
       "      <th>15132</th>\n",
       "      <td>1999848_2</td>\n",
       "      <td>0</td>\n",
       "      <td>1999848</td>\n",
       "      <td>232</td>\n",
       "      <td>1</td>\n",
       "      <td>79.400000</td>\n",
       "    </tr>\n",
       "    <tr>\n",
       "      <th>15133</th>\n",
       "      <td>1999908_1</td>\n",
       "      <td>1</td>\n",
       "      <td>1999908</td>\n",
       "      <td>27</td>\n",
       "      <td>1</td>\n",
       "      <td>36.000000</td>\n",
       "    </tr>\n",
       "    <tr>\n",
       "      <th>15134</th>\n",
       "      <td>1999908_2</td>\n",
       "      <td>1</td>\n",
       "      <td>1999908</td>\n",
       "      <td>316</td>\n",
       "      <td>1</td>\n",
       "      <td>123.000000</td>\n",
       "    </tr>\n",
       "  </tbody>\n",
       "</table>\n",
       "<p>15135 rows × 6 columns</p>\n",
       "</div>"
      ],
      "text/plain": [
       "      userId_paid_phase  churned   userId  unique_artist_count  \\\n",
       "0             1000025_1        1  1000025                 1140   \n",
       "1             1000035_1        0  1000035                  854   \n",
       "2             1000083_1        1  1000083                  299   \n",
       "3             1000103_1        0  1000103                   36   \n",
       "4             1000164_1        0  1000164                  617   \n",
       "...                 ...      ...      ...                  ...   \n",
       "15130         1999847_1        1  1999847                  246   \n",
       "15131         1999848_1        1  1999848                  213   \n",
       "15132         1999848_2        0  1999848                  232   \n",
       "15133         1999908_1        1  1999908                   27   \n",
       "15134         1999908_2        1  1999908                  316   \n",
       "\n",
       "       male_1_female_0  mean(items_in_session_counts)  \n",
       "0                    1                     126.625000  \n",
       "1                    0                      84.277778  \n",
       "2                    1                      97.600000  \n",
       "3                    0                      23.750000  \n",
       "4                    0                      91.545455  \n",
       "...                ...                            ...  \n",
       "15130                0                     123.000000  \n",
       "15131                1                     150.000000  \n",
       "15132                1                      79.400000  \n",
       "15133                1                      36.000000  \n",
       "15134                1                     123.000000  \n",
       "\n",
       "[15135 rows x 6 columns]"
      ]
     },
     "execution_count": 323,
     "metadata": {},
     "output_type": "execute_result"
    }
   ],
   "source": [
    "feature_pdf = feature_df.toPandas()\n",
    "feature_pdf"
   ]
  },
  {
   "cell_type": "code",
   "execution_count": 324,
   "metadata": {},
   "outputs": [
    {
     "data": {
      "text/plain": [
       "<Axes: xlabel='churned', ylabel='mean(items_in_session_counts)'>"
      ]
     },
     "execution_count": 324,
     "metadata": {},
     "output_type": "execute_result"
    },
    {
     "data": {
      "image/png": "[encoded data removed]",
      "text/plain": [
       "<Figure size 640x480 with 1 Axes>"
      ]
     },
     "metadata": {},
     "output_type": "display_data"
    }
   ],
   "source": [
    "sns.boxplot(data=feature_pdf,y=\"mean(items_in_session_counts)\",x='churned')"
   ]
  },
  {
   "cell_type": "code",
   "execution_count": 325,
   "metadata": {},
   "outputs": [
    {
     "data": {
      "text/plain": [
       "['userId_paid_phase',\n",
       " 'churned',\n",
       " 'userId',\n",
       " 'unique_artist_count',\n",
       " 'male_1_female_0',\n",
       " 'mean(items_in_session_counts)']"
      ]
     },
     "execution_count": 325,
     "metadata": {},
     "output_type": "execute_result"
    }
   ],
   "source": [
    "feature_df.columns"
   ]
  },
  {
   "cell_type": "markdown",
   "metadata": {},
   "source": [
    "# Number of songs played (ever / over a period)"
   ]
  },
  {
   "cell_type": "code",
   "execution_count": null,
   "metadata": {},
   "outputs": [
    {
     "name": "stdout",
     "output_type": "stream",
     "text": [
      "+-----------------+----------------+----+\n",
      "|userId_paid_phase|total_song_count|test|\n",
      "+-----------------+----------------+----+\n",
      "|        1033115_1|            1669|1669|\n",
      "|        1205814_1|              18|  18|\n",
      "|        1485461_3|             580| 580|\n",
      "|        1545772_1|             212| 212|\n",
      "|        1752794_1|             581| 581|\n",
      "|        1385890_1|            1179|1179|\n",
      "|        1714987_1|            1489|1489|\n",
      "|        1043112_1|             797| 797|\n",
      "|        1828442_1|              11|  11|\n",
      "|        1853227_1|             124| 124|\n",
      "|        1418527_1|             164| 164|\n",
      "|        1447960_1|             163| 163|\n",
      "|        1722409_1|             247| 247|\n",
      "|        1825112_1|            2930|2930|\n",
      "|        1917859_1|            1019|1019|\n",
      "|        1193157_1|            2307|2307|\n",
      "|        1337765_1|            1776|1776|\n",
      "|        1830756_1|            1026|1026|\n",
      "|        1968649_4|             321| 321|\n",
      "|        1149955_1|            4621|4621|\n",
      "+-----------------+----------------+----+\n",
      "only showing top 20 rows\n",
      "\n"
     ]
    }
   ],
   "source": [
    "df_songs_played = (\n",
    "    df\n",
    "    .where(f.col(\"page\")==\"NextSong\")\n",
    "    .groupby(\"userId_paid_phase\").agg(f.count(\"artist\").alias(\"total_song_count\"), f.count(\"userId_paid_phase\").alias(\"test\"))\n",
    ")\n",
    "df_songs_played.show()"
   ]
  },
  {
   "cell_type": "code",
   "execution_count": null,
   "metadata": {},
   "outputs": [],
   "source": [
    "# Future improvement - It sounds reasonable that some of the churned users could be using the service less than they used to,\n",
    "# so would like to try and generate a feature that compares the number of songs played recently, to the \n",
    "# number of songs played in the past. Ideally need to know when \"now\" is to calculate features like:\n",
    "# \"average songs per day last week vs average songs per day since upgrading\""
   ]
  },
  {
   "cell_type": "code",
   "execution_count": null,
   "metadata": {},
   "outputs": [],
   "source": [
    "# calculate number of songs played in last 10% of time have been paying, compared to the first 90?\n",
    "\n",
    "col_values_to_count = [\n",
    "    {\"c\":\"status\", \"v\":404},\n",
    "    {\"c\":\"page\", \"v\":\"NextSong\"},\n",
    "    {\"c\":\"page\", \"v\":\"Thumbs Up\"},\n",
    "    {\"c\":\"page\", \"v\":\"Thumbs Down\"},\n",
    "    {\"c\":\"page\", \"v\":\"Downgrade\"},\n",
    "    {\"c\":\"page\", \"v\":\"Cancel\"},\n",
    "    {\"c\":\"page\", \"v\":\"Help\"},\n",
    "]"
   ]
  },
  {
   "cell_type": "code",
   "execution_count": 378,
   "metadata": {},
   "outputs": [],
   "source": [
    "\n",
    "def process_value_to_count(input_df, col, value,feature_df):\n",
    "    \"\"\"calculate a new feature using the col and value field \n",
    "    on the input_df, and return the feature_df with a new column\n",
    "    Also plot the results for review\"\"\"\n",
    "    \n",
    "    new_feature_col_name = f\"{col}_{value}_count\"\n",
    "    new_feature_df = (\n",
    "        input_df\n",
    "        .where(f.col(col)==value).groupby(\"userId_paid_phase\")\n",
    "        .agg(f.count(col).alias(new_feature_col_name))   \n",
    "    )\n",
    "    \n",
    "    \n",
    "    feature_df = feature_df.join(new_feature_df, on=\"userId_paid_phase\", how=\"left\")\n",
    "    feature_df = feature_df.fillna(0, subset=new_feature_col_name)\n",
    "    \n",
    "    f_pdf = feature_df.select(\"userId_paid_phase\", \"churned\", new_feature_col_name).toPandas()\n",
    "    \n",
    "    plt.figure()\n",
    "    sns.boxplot(data=f_pdf, y=new_feature_col_name, x=\"churned\")\n",
    "    \n",
    "    return feature_df"
   ]
  },
  {
   "cell_type": "code",
   "execution_count": 379,
   "metadata": {},
   "outputs": [
    {
     "name": "stdout",
     "output_type": "stream",
     "text": [
      "\n",
      "Processing count of value 404 in column status ...\n"
     ]
    },
    {
     "name": "stdout",
     "output_type": "stream",
     "text": [
      "\n",
      "Processing count of value NextSong in column page ...\n",
      "\n",
      "Processing count of value Thumbs Up in column page ...\n",
      "\n",
      "Processing count of value Thumbs Down in column page ...\n",
      "\n",
      "Processing count of value Downgrade in column page ...\n",
      "\n",
      "Processing count of value Cancel in column page ...\n",
      "\n",
      "Processing count of value Help in column page ...\n"
     ]
    },
    {
     "data": {
      "image/png": "[encoded data removed]",
      "text/plain": [
       "<Figure size 640x480 with 1 Axes>"
      ]
     },
     "metadata": {},
     "output_type": "display_data"
    },
    {
     "data": {
      "image/png": "[encoded data removed]",
      "text/plain": [
       "<Figure size 640x480 with 1 Axes>"
      ]
     },
     "metadata": {},
     "output_type": "display_data"
    },
    {
     "data": {
      "image/png": "[encoded data removed]",
      "text/plain": [
       "<Figure size 640x480 with 1 Axes>"
      ]
     },
     "metadata": {},
     "output_type": "display_data"
    },
    {
     "data": {
      "image/png": "[encoded data removed]",
      "text/plain": [
       "<Figure size 640x480 with 1 Axes>"
      ]
     },
     "metadata": {},
     "output_type": "display_data"
    },
    {
     "data": {
      "image/png": "[encoded data removed]",
      "text/plain": [
       "<Figure size 640x480 with 1 Axes>"
      ]
     },
     "metadata": {},
     "output_type": "display_data"
    },
    {
     "data": {
      "image/png": "[encoded data removed]",
      "text/plain": [
       "<Figure size 640x480 with 1 Axes>"
      ]
     },
     "metadata": {},
     "output_type": "display_data"
    },
    {
     "data": {
      "image/png": "[encoded data removed]",
      "text/plain": [
       "<Figure size 640x480 with 1 Axes>"
      ]
     },
     "metadata": {},
     "output_type": "display_data"
    }
   ],
   "source": [
    "for c_v_dict in col_values_to_count:\n",
    "    col = c_v_dict[\"c\"]\n",
    "    value = c_v_dict[\"v\"]\n",
    "    print(f\"\\nProcessing count of value {value} in column {col} ...\")\n",
    "    feature_df = process_value_to_count(input_df=df,col=col,value=value, feature_df=feature_df)"
   ]
  },
  {
   "cell_type": "code",
   "execution_count": 380,
   "metadata": {},
   "outputs": [
    {
     "name": "stdout",
     "output_type": "stream",
     "text": [
      "+-----------------+-------+-------+-------------------+---------------+-----------------------------+----------------+-------------------+--------------------+----------------------+--------------------+-----------------+---------------+\n",
      "|userId_paid_phase|churned| userId|unique_artist_count|male_1_female_0|mean(items_in_session_counts)|status_404_count|page_NextSong_count|page_Thumbs Up_count|page_Thumbs Down_count|page_Downgrade_count|page_Cancel_count|page_Help_count|\n",
      "+-----------------+-------+-------+-------------------+---------------+-----------------------------+----------------+-------------------+--------------------+----------------------+--------------------+-----------------+---------------+\n",
      "|        1000409_1|      0|1000409|               1551|              1|           106.28571428571429|               2|               2462|                 117|                    25|                  26|                0|             14|\n",
      "|        1006980_2|      0|1006980|                216|              1|                        102.0|               0|                233|                  12|                     1|                   2|                0|              3|\n",
      "|        1012419_1|      1|1012419|                418|              1|           100.83333333333333|               2|                492|                  23|                     6|                   8|                1|              6|\n",
      "|        1033115_1|      1|1033115|               1152|              1|           145.07142857142858|               2|               1669|                  95|                    18|                  19|                1|             10|\n",
      "|        1040575_1|      1|1040575|                369|              0|                        137.0|               0|                432|                  30|                     1|                   7|                0|              2|\n",
      "|        1107228_1|      0|1107228|                131|              0|            90.33333333333333|               0|                146|                  16|                     0|                   1|                0|              3|\n",
      "|        1151969_2|      1|1151969|                287|              1|                        237.0|               0|                321|                  17|                     2|                   7|                0|              4|\n",
      "|        1154114_1|      1|1154114|                482|              1|                        140.0|               1|                586|                  28|                     6|                   5|                1|              3|\n",
      "|        1154397_1|      1|1154397|               1619|              0|            103.6774193548387|               6|               2633|                 131|                    25|                  26|                0|             12|\n",
      "|        1155240_1|      0|1155240|                275|              0|            64.66666666666667|               0|                320|                  16|                     0|                   6|                0|              2|\n",
      "|        1157835_2|      1|1157835|                855|              0|           135.36363636363637|               3|               1173|                  58|                    15|                   9|                0|             13|\n",
      "|        1181318_2|      1|1181318|                920|              0|            134.8181818181818|               0|               1211|                  56|                    17|                  27|                0|             19|\n",
      "|        1187393_1|      0|1187393|                969|              1|           184.22222222222223|               3|               1364|                  63|                    13|                  19|                0|              6|\n",
      "|        1200865_2|      1|1200865|                168|              1|                         44.0|               0|                177|                   8|                     3|                   2|                0|              1|\n",
      "|        1205814_1|      1|1205814|                 17|              1|                         24.0|               0|                 18|                   2|                     0|                   1|                0|              0|\n",
      "|        1219690_1|      1|1219690|                569|              0|                         81.7|               2|                688|                  23|                     6|                   6|                0|              2|\n",
      "|        1225359_1|      0|1225359|                265|              1|                        120.0|               0|                287|                  17|                     4|                   3|                0|              2|\n",
      "|        1242320_1|      1|1242320|                311|              0|           144.66666666666666|               0|                355|                  10|                     4|                   8|                1|              2|\n",
      "|        1251271_1|      1|1251271|                 28|              1|                        134.0|               0|                 29|                   0|                     0|                   1|                1|              0|\n",
      "|        1258090_1|      0|1258090|               1474|              0|           107.57692307692308|               3|               2295|                 106|                    27|                  35|                0|              8|\n",
      "+-----------------+-------+-------+-------------------+---------------+-----------------------------+----------------+-------------------+--------------------+----------------------+--------------------+-----------------+---------------+\n",
      "only showing top 20 rows\n",
      "\n"
     ]
    }
   ],
   "source": [
    "feature_df.show()"
   ]
  },
  {
   "cell_type": "code",
   "execution_count": 399,
   "metadata": {},
   "outputs": [
    {
     "name": "stdout",
     "output_type": "stream",
     "text": [
      "+---------------------+\n",
      "|sum(status_404_count)|\n",
      "+---------------------+\n",
      "|                14720|\n",
      "+---------------------+\n",
      "\n"
     ]
    }
   ],
   "source": [
    "feature_df.select(f.sum(\"status_404_count\")).show()"
   ]
  },
  {
   "cell_type": "markdown",
   "metadata": {},
   "source": [
    "Possible feature improvements - look at percentages of each item against other values as well as the total counts. Again also compare \"recent\" counts/percentages to overall counts/percentages to try and detect a change in behaviour"
   ]
  },
  {
   "cell_type": "markdown",
   "metadata": {},
   "source": [
    "# Making a Model to predict Churn\n",
    "\n",
    "As we are trying to determine if a \"user paying period\" falls into a category of churned / not churned, we have a __classification__ problem to solve.\n",
    "\n",
    "Supported classification algorithms in spark.ml include:\n",
    "- Logistic Regression\n",
    "- Random Forests\n",
    "- Gradient-Boosted Trees\n",
    "- Support Vector Machines\n",
    "- Naive Bayes"
   ]
  },
  {
   "cell_type": "code",
   "execution_count": 381,
   "metadata": {},
   "outputs": [
    {
     "name": "stdout",
     "output_type": "stream",
     "text": [
      "+-----------------+-------+------+-------------------+---------------+-----------------------------+----------------+-------------------+--------------------+----------------------+--------------------+-----------------+---------------+\n",
      "|userId_paid_phase|churned|userId|unique_artist_count|male_1_female_0|mean(items_in_session_counts)|status_404_count|page_NextSong_count|page_Thumbs Up_count|page_Thumbs Down_count|page_Downgrade_count|page_Cancel_count|page_Help_count|\n",
      "+-----------------+-------+------+-------------------+---------------+-----------------------------+----------------+-------------------+--------------------+----------------------+--------------------+-----------------+---------------+\n",
      "|                0|      0|     0|                  0|              0|                            0|               0|                  0|                   0|                     0|                   0|                0|              0|\n",
      "+-----------------+-------+------+-------------------+---------------+-----------------------------+----------------+-------------------+--------------------+----------------------+--------------------+-----------------+---------------+\n",
      "\n"
     ]
    }
   ],
   "source": [
    "# Check no missing values\n",
    "feature_df.select([f.count(f.when(f.col(c).isNull(), c)).alias(c) for c in feature_df.columns]).show()"
   ]
  },
  {
   "cell_type": "code",
   "execution_count": 382,
   "metadata": {},
   "outputs": [],
   "source": [
    "# need to fill missing values with 0, which is where the user didn't have any of those events, e.g. never went to Help page etc.\n",
    "feature_df = feature_df.fillna(0)"
   ]
  },
  {
   "cell_type": "code",
   "execution_count": 383,
   "metadata": {},
   "outputs": [],
   "source": [
    "feature_df = feature_df.persist()"
   ]
  },
  {
   "cell_type": "code",
   "execution_count": 384,
   "metadata": {},
   "outputs": [
    {
     "name": "stdout",
     "output_type": "stream",
     "text": [
      "features_df has 15135 rows and 13 cols\n"
     ]
    }
   ],
   "source": [
    "print(f\"features_df has {feature_df.count()} rows and {len(feature_df.columns)} cols\")"
   ]
  },
  {
   "cell_type": "code",
   "execution_count": 385,
   "metadata": {},
   "outputs": [
    {
     "name": "stdout",
     "output_type": "stream",
     "text": [
      "root\n",
      " |-- userId_paid_phase: string (nullable = false)\n",
      " |-- churned: integer (nullable = true)\n",
      " |-- userId: string (nullable = true)\n",
      " |-- unique_artist_count: long (nullable = true)\n",
      " |-- male_1_female_0: integer (nullable = true)\n",
      " |-- mean(items_in_session_counts): double (nullable = false)\n",
      " |-- status_404_count: long (nullable = true)\n",
      " |-- page_NextSong_count: long (nullable = true)\n",
      " |-- page_Thumbs Up_count: long (nullable = true)\n",
      " |-- page_Thumbs Down_count: long (nullable = true)\n",
      " |-- page_Downgrade_count: long (nullable = true)\n",
      " |-- page_Cancel_count: long (nullable = true)\n",
      " |-- page_Help_count: long (nullable = true)\n",
      "\n"
     ]
    }
   ],
   "source": [
    "feature_df.printSchema()"
   ]
  },
  {
   "cell_type": "markdown",
   "metadata": {},
   "source": [
    "## Transform Features"
   ]
  },
  {
   "cell_type": "code",
   "execution_count": 386,
   "metadata": {},
   "outputs": [
    {
     "data": {
      "text/plain": [
       "['userId_paid_phase',\n",
       " 'churned',\n",
       " 'userId',\n",
       " 'unique_artist_count',\n",
       " 'male_1_female_0',\n",
       " 'mean(items_in_session_counts)',\n",
       " 'status_404_count',\n",
       " 'page_NextSong_count',\n",
       " 'page_Thumbs Up_count',\n",
       " 'page_Thumbs Down_count',\n",
       " 'page_Downgrade_count',\n",
       " 'page_Cancel_count',\n",
       " 'page_Help_count']"
      ]
     },
     "execution_count": 386,
     "metadata": {},
     "output_type": "execute_result"
    }
   ],
   "source": [
    "feature_df.columns"
   ]
  },
  {
   "cell_type": "code",
   "execution_count": 387,
   "metadata": {},
   "outputs": [],
   "source": [
    "input_cols = feature_df.columns[3:]\n",
    "target_col = \"churned\""
   ]
  },
  {
   "cell_type": "code",
   "execution_count": 388,
   "metadata": {},
   "outputs": [],
   "source": [
    "\n",
    "from pyspark.ml.feature import VectorAssembler, StandardScaler\n",
    "from pyspark.ml.evaluation import BinaryClassificationEvaluator\n",
    "from pyspark.ml.classification import RandomForestClassifier, LogisticRegression\n",
    "from pyspark.ml.tuning import CrossValidator, ParamGridBuilder"
   ]
  },
  {
   "cell_type": "code",
   "execution_count": 389,
   "metadata": {},
   "outputs": [
    {
     "data": {
      "text/plain": [
       "StringType()"
      ]
     },
     "execution_count": 389,
     "metadata": {},
     "output_type": "execute_result"
    }
   ],
   "source": [
    "feature_df.schema[\"userId\"].dataType"
   ]
  },
  {
   "cell_type": "code",
   "execution_count": 390,
   "metadata": {},
   "outputs": [],
   "source": [
    "numerical_cols = [c for c in input_cols if c!=\"male_1_female_0\"]"
   ]
  },
  {
   "cell_type": "code",
   "execution_count": 391,
   "metadata": {},
   "outputs": [],
   "source": [
    "# convert numerical cols to vectors:\n",
    "\n",
    "assembler = VectorAssembler(inputCols=numerical_cols, outputCol=\"numerical_features_vector\")\n",
    "feature_df = assembler.transform(feature_df)"
   ]
  },
  {
   "cell_type": "code",
   "execution_count": 392,
   "metadata": {},
   "outputs": [
    {
     "data": {
      "text/plain": [
       "['userId_paid_phase',\n",
       " 'churned',\n",
       " 'userId',\n",
       " 'unique_artist_count',\n",
       " 'male_1_female_0',\n",
       " 'mean(items_in_session_counts)',\n",
       " 'status_404_count',\n",
       " 'page_NextSong_count',\n",
       " 'page_Thumbs Up_count',\n",
       " 'page_Thumbs Down_count',\n",
       " 'page_Downgrade_count',\n",
       " 'page_Cancel_count',\n",
       " 'page_Help_count',\n",
       " 'numerical_features_vector']"
      ]
     },
     "execution_count": 392,
     "metadata": {},
     "output_type": "execute_result"
    }
   ],
   "source": [
    "feature_df.columns"
   ]
  },
  {
   "cell_type": "code",
   "execution_count": 393,
   "metadata": {},
   "outputs": [],
   "source": [
    "scaler = StandardScaler(inputCol=\"numerical_features_vector\", outputCol=\"scaled_numerical_features_vector\", withMean=True, withStd=True)\n",
    "scalerModel = scaler.fit(feature_df)\n",
    "feature_df = scalerModel.transform(feature_df)"
   ]
  },
  {
   "cell_type": "code",
   "execution_count": 394,
   "metadata": {},
   "outputs": [],
   "source": [
    "# Add back the gender input col:\n",
    "assembler = VectorAssembler(inputCols=[\"scaled_numerical_features_vector\",\"male_1_female_0\"], outputCol=\"features_vec\")\n",
    "feature_df = assembler.transform(feature_df)"
   ]
  },
  {
   "cell_type": "code",
   "execution_count": 395,
   "metadata": {},
   "outputs": [
    {
     "data": {
      "text/plain": [
       "Row(x=DenseVector([1.8366, -0.3043, 0.7235, 1.8303, 1.2998, 1.6342, 1.7284, -0.4425, 1.55, 1.0]), Y=0)"
      ]
     },
     "execution_count": 395,
     "metadata": {},
     "output_type": "execute_result"
    }
   ],
   "source": [
    "model_df = feature_df.select(f.col(\"features_vec\").alias(\"x\"), f.col(\"churned\").alias(\"Y\"))\n",
    "model_df.head()"
   ]
  },
  {
   "cell_type": "code",
   "execution_count": 396,
   "metadata": {},
   "outputs": [],
   "source": [
    "# temp cell to speed things up... re run one abovr when remove this\n",
    "model_df,_ = model_df.randomSplit([0.1,0.9])"
   ]
  },
  {
   "cell_type": "code",
   "execution_count": 397,
   "metadata": {},
   "outputs": [],
   "source": [
    "train, test = model_df.randomSplit([0.8, 0.2], seed=7)"
   ]
  },
  {
   "cell_type": "markdown",
   "metadata": {},
   "source": [
    "## Baseline\n",
    "We saw previously close to 50% of \"user paid periods\" churned, so if we were to randomly guess if that period churned with an equal probability (50%), we should achieve an accuracy of 50%."
   ]
  },
  {
   "cell_type": "markdown",
   "metadata": {},
   "source": [
    "## Random Forest"
   ]
  },
  {
   "cell_type": "code",
   "execution_count": 398,
   "metadata": {},
   "outputs": [
    {
     "ename": "Py4JJavaError",
     "evalue": "An error occurred while calling o5917.fit.\n: java.nio.file.NoSuchFileException: C:\\Users\\Matthew.Hull\\AppData\\Local\\Temp\\blockmgr-16ed3868-9222-4afb-90c3-b1f2992e3a06\\03\r\n\tat sun.nio.fs.WindowsException.translateToIOException(Unknown Source)\r\n\tat sun.nio.fs.WindowsException.rethrowAsIOException(Unknown Source)\r\n\tat sun.nio.fs.WindowsException.rethrowAsIOException(Unknown Source)\r\n\tat sun.nio.fs.WindowsFileSystemProvider.createDirectory(Unknown Source)\r\n\tat java.nio.file.Files.createDirectory(Unknown Source)\r\n\tat org.apache.spark.storage.DiskBlockManager.getFile(DiskBlockManager.scala:108)\r\n\tat org.apache.spark.storage.DiskStore.remove(DiskStore.scala:131)\r\n\tat org.apache.spark.storage.BlockManager.removeBlockInternal(BlockManager.scala:2053)\r\n\tat org.apache.spark.storage.BlockManager.org$apache$spark$storage$BlockManager$$doPut(BlockManager.scala:1513)\r\n\tat org.apache.spark.storage.BlockManager.doPutIterator(BlockManager.scala:1550)\r\n\tat org.apache.spark.storage.BlockManager.putIterator(BlockManager.scala:1401)\r\n\tat org.apache.spark.storage.BlockManager.putSingle(BlockManager.scala:1894)\r\n\tat org.apache.spark.broadcast.TorrentBroadcast.writeBlocks(TorrentBroadcast.scala:192)\r\n\tat org.apache.spark.broadcast.TorrentBroadcast.<init>(TorrentBroadcast.scala:125)\r\n\tat org.apache.spark.broadcast.TorrentBroadcastFactory.newBroadcast(TorrentBroadcastFactory.scala:41)\r\n\tat org.apache.spark.broadcast.BroadcastManager.newBroadcast(BroadcastManager.scala:115)\r\n\tat org.apache.spark.SparkContext.broadcastInternal(SparkContext.scala:1891)\r\n\tat org.apache.spark.SparkContext.broadcast(SparkContext.scala:1871)\r\n\tat org.apache.spark.SparkContext.broadcast(SparkContext.scala:1858)\r\n\tat org.apache.spark.ml.tree.impl.RandomForest$.run(RandomForest.scala:295)\r\n\tat org.apache.spark.ml.classification.RandomForestClassifier.$anonfun$train$1(RandomForestClassifier.scala:162)\r\n\tat org.apache.spark.ml.util.Instrumentation$.$anonfun$instrumented$1(Instrumentation.scala:284)\r\n\tat scala.util.Try$.apply(Try.scala:213)\r\n\tat org.apache.spark.ml.util.Instrumentation$.instrumented(Instrumentation.scala:284)\r\n\tat org.apache.spark.ml.classification.RandomForestClassifier.train(RandomForestClassifier.scala:139)\r\n\tat org.apache.spark.ml.classification.RandomForestClassifier.train(RandomForestClassifier.scala:47)\r\n\tat org.apache.spark.ml.Predictor.fit(Predictor.scala:151)\r\n\tat sun.reflect.NativeMethodAccessorImpl.invoke0(Native Method)\r\n\tat sun.reflect.NativeMethodAccessorImpl.invoke(Unknown Source)\r\n\tat sun.reflect.DelegatingMethodAccessorImpl.invoke(Unknown Source)\r\n\tat java.lang.reflect.Method.invoke(Unknown Source)\r\n\tat py4j.reflection.MethodInvoker.invoke(MethodInvoker.java:244)\r\n\tat py4j.reflection.ReflectionEngine.invoke(ReflectionEngine.java:380)\r\n\tat py4j.Gateway.invoke(Gateway.java:306)\r\n\tat py4j.commands.AbstractCommand.invokeMethod(AbstractCommand.java:132)\r\n\tat py4j.commands.CallCommand.execute(CallCommand.java:79)\r\n\tat py4j.ClientServerConnection.waitForCommands(ClientServerConnection.java:195)\r\n\tat py4j.ClientServerConnection.run(ClientServerConnection.java:115)\r\n\tat java.lang.Thread.run(Unknown Source)\r\n",
     "output_type": "error",
     "traceback": [
      "\u001b[1;31m---------------------------------------------------------------------------\u001b[0m",
      "\u001b[1;31mPy4JJavaError\u001b[0m                             Traceback (most recent call last)",
      "Cell \u001b[1;32mIn[398], line 20\u001b[0m\n\u001b[0;32m      6\u001b[0m rf_param_grid \u001b[38;5;241m=\u001b[39m (\n\u001b[0;32m      7\u001b[0m     ParamGridBuilder()\n\u001b[0;32m      8\u001b[0m     \u001b[38;5;241m.\u001b[39maddGrid(rf\u001b[38;5;241m.\u001b[39mmaxDepth, [\u001b[38;5;241m5\u001b[39m,\u001b[38;5;241m10\u001b[39m])\n\u001b[0;32m      9\u001b[0m     \u001b[38;5;241m.\u001b[39maddGrid(rf\u001b[38;5;241m.\u001b[39mmaxBins, [\u001b[38;5;241m25\u001b[39m,\u001b[38;5;241m35\u001b[39m])\n\u001b[0;32m     10\u001b[0m     \u001b[38;5;241m.\u001b[39mbuild()\n\u001b[0;32m     11\u001b[0m )\n\u001b[0;32m     13\u001b[0m crossval \u001b[38;5;241m=\u001b[39m CrossValidator(\n\u001b[0;32m     14\u001b[0m     estimator\u001b[38;5;241m=\u001b[39mrf,\n\u001b[0;32m     15\u001b[0m     estimatorParamMaps\u001b[38;5;241m=\u001b[39mrf_param_grid,\n\u001b[0;32m     16\u001b[0m     evaluator\u001b[38;5;241m=\u001b[39mevaluator,\n\u001b[0;32m     17\u001b[0m     numFolds\u001b[38;5;241m=\u001b[39m\u001b[38;5;241m2\u001b[39m\n\u001b[0;32m     18\u001b[0m )\n\u001b[1;32m---> 20\u001b[0m rf_model \u001b[38;5;241m=\u001b[39m \u001b[43mcrossval\u001b[49m\u001b[38;5;241;43m.\u001b[39;49m\u001b[43mfit\u001b[49m\u001b[43m(\u001b[49m\u001b[43mtrain\u001b[49m\u001b[43m)\u001b[49m\n",
      "File \u001b[1;32mc:\\Users\\Matthew.Hull\\nap_local\\nanodegree_datascience_term_2\\udacity_ds_term2_capstone_sparkify\\.venv\\lib\\site-packages\\pyspark\\ml\\base.py:205\u001b[0m, in \u001b[0;36mEstimator.fit\u001b[1;34m(self, dataset, params)\u001b[0m\n\u001b[0;32m    203\u001b[0m         \u001b[38;5;28;01mreturn\u001b[39;00m \u001b[38;5;28mself\u001b[39m\u001b[38;5;241m.\u001b[39mcopy(params)\u001b[38;5;241m.\u001b[39m_fit(dataset)\n\u001b[0;32m    204\u001b[0m     \u001b[38;5;28;01melse\u001b[39;00m:\n\u001b[1;32m--> 205\u001b[0m         \u001b[38;5;28;01mreturn\u001b[39;00m \u001b[38;5;28;43mself\u001b[39;49m\u001b[38;5;241;43m.\u001b[39;49m\u001b[43m_fit\u001b[49m\u001b[43m(\u001b[49m\u001b[43mdataset\u001b[49m\u001b[43m)\u001b[49m\n\u001b[0;32m    206\u001b[0m \u001b[38;5;28;01melse\u001b[39;00m:\n\u001b[0;32m    207\u001b[0m     \u001b[38;5;28;01mraise\u001b[39;00m \u001b[38;5;167;01mTypeError\u001b[39;00m(\n\u001b[0;32m    208\u001b[0m         \u001b[38;5;124m\"\u001b[39m\u001b[38;5;124mParams must be either a param map or a list/tuple of param maps, \u001b[39m\u001b[38;5;124m\"\u001b[39m\n\u001b[0;32m    209\u001b[0m         \u001b[38;5;124m\"\u001b[39m\u001b[38;5;124mbut got \u001b[39m\u001b[38;5;132;01m%s\u001b[39;00m\u001b[38;5;124m.\u001b[39m\u001b[38;5;124m\"\u001b[39m \u001b[38;5;241m%\u001b[39m \u001b[38;5;28mtype\u001b[39m(params)\n\u001b[0;32m    210\u001b[0m     )\n",
      "File \u001b[1;32mc:\\Users\\Matthew.Hull\\nap_local\\nanodegree_datascience_term_2\\udacity_ds_term2_capstone_sparkify\\.venv\\lib\\site-packages\\pyspark\\ml\\tuning.py:864\u001b[0m, in \u001b[0;36mCrossValidator._fit\u001b[1;34m(self, dataset)\u001b[0m\n\u001b[0;32m    861\u001b[0m             \u001b[38;5;28;01massert\u001b[39;00m subModels \u001b[38;5;129;01mis\u001b[39;00m \u001b[38;5;129;01mnot\u001b[39;00m \u001b[38;5;28;01mNone\u001b[39;00m\n\u001b[0;32m    862\u001b[0m             subModels[i][j] \u001b[38;5;241m=\u001b[39m subModel\n\u001b[1;32m--> 864\u001b[0m \u001b[43m_cancel_on_failure\u001b[49m\u001b[43m(\u001b[49m\u001b[43mdataset\u001b[49m\u001b[38;5;241;43m.\u001b[39;49m\u001b[43m_sc\u001b[49m\u001b[43m,\u001b[49m\u001b[43m \u001b[49m\u001b[38;5;28;43mself\u001b[39;49m\u001b[38;5;241;43m.\u001b[39;49m\u001b[43muid\u001b[49m\u001b[43m,\u001b[49m\u001b[43m \u001b[49m\u001b[43msub_task_failed\u001b[49m\u001b[43m,\u001b[49m\u001b[43m \u001b[49m\u001b[43mcalculate_metrics\u001b[49m\u001b[43m)\u001b[49m\n\u001b[0;32m    865\u001b[0m \u001b[38;5;66;03m# END-EDGE\u001b[39;00m\n\u001b[0;32m    867\u001b[0m validation\u001b[38;5;241m.\u001b[39munpersist()\n",
      "File \u001b[1;32mc:\\Users\\Matthew.Hull\\nap_local\\nanodegree_datascience_term_2\\udacity_ds_term2_capstone_sparkify\\.venv\\lib\\site-packages\\pyspark\\ml\\util.py:85\u001b[0m, in \u001b[0;36m_cancel_on_failure\u001b[1;34m(sc, uid, sub_task_failed, f)\u001b[0m\n\u001b[0;32m     83\u001b[0m     \u001b[38;5;28;01mexcept\u001b[39;00m \u001b[38;5;167;01mException\u001b[39;00m:\n\u001b[0;32m     84\u001b[0m         \u001b[38;5;28;01mpass\u001b[39;00m\n\u001b[1;32m---> 85\u001b[0m     \u001b[38;5;28;01mraise\u001b[39;00m e\n\u001b[0;32m     86\u001b[0m \u001b[38;5;28;01mfinally\u001b[39;00m:\n\u001b[0;32m     87\u001b[0m     sc\u001b[38;5;241m.\u001b[39msetLocalProperty(\u001b[38;5;124m\"\u001b[39m\u001b[38;5;124mspark.jobGroup.id\u001b[39m\u001b[38;5;124m\"\u001b[39m, old_job_group)\n",
      "File \u001b[1;32mc:\\Users\\Matthew.Hull\\nap_local\\nanodegree_datascience_term_2\\udacity_ds_term2_capstone_sparkify\\.venv\\lib\\site-packages\\pyspark\\ml\\util.py:73\u001b[0m, in \u001b[0;36m_cancel_on_failure\u001b[1;34m(sc, uid, sub_task_failed, f)\u001b[0m\n\u001b[0;32m     71\u001b[0m sc\u001b[38;5;241m.\u001b[39msetLocalProperty(\u001b[38;5;124m\"\u001b[39m\u001b[38;5;124mspark.jobGroup.id\u001b[39m\u001b[38;5;124m\"\u001b[39m, new_job_group)\n\u001b[0;32m     72\u001b[0m \u001b[38;5;28;01mtry\u001b[39;00m:\n\u001b[1;32m---> 73\u001b[0m     \u001b[38;5;28;01mreturn\u001b[39;00m \u001b[43mf\u001b[49m\u001b[43m(\u001b[49m\u001b[43m)\u001b[49m\n\u001b[0;32m     74\u001b[0m \u001b[38;5;28;01mexcept\u001b[39;00m \u001b[38;5;167;01mException\u001b[39;00m \u001b[38;5;28;01mas\u001b[39;00m e:\n\u001b[0;32m     75\u001b[0m     \u001b[38;5;66;03m# Hack: this is best effort for other tasks to fail fast. Futures will\u001b[39;00m\n\u001b[0;32m     76\u001b[0m     \u001b[38;5;66;03m#   read this and fail before running jobs. There's no guarantee here.\u001b[39;00m\n\u001b[0;32m     77\u001b[0m     sub_task_failed[\u001b[38;5;241m0\u001b[39m] \u001b[38;5;241m=\u001b[39m \u001b[38;5;28;01mTrue\u001b[39;00m\n",
      "File \u001b[1;32mc:\\Users\\Matthew.Hull\\nap_local\\nanodegree_datascience_term_2\\udacity_ds_term2_capstone_sparkify\\.venv\\lib\\site-packages\\pyspark\\ml\\util.py:121\u001b[0m, in \u001b[0;36m_cancel_on_ipython_post_run_cell.<locals>.decorator.<locals>.wrapper\u001b[1;34m(*args, **kwargs)\u001b[0m\n\u001b[0;32m    118\u001b[0m     ipython\u001b[38;5;241m.\u001b[39mevents\u001b[38;5;241m.\u001b[39munregister(\u001b[38;5;124m\"\u001b[39m\u001b[38;5;124mpost_run_cell\u001b[39m\u001b[38;5;124m\"\u001b[39m, on_cancel)\n\u001b[0;32m    120\u001b[0m ipython\u001b[38;5;241m.\u001b[39mevents\u001b[38;5;241m.\u001b[39mregister(\u001b[38;5;124m\"\u001b[39m\u001b[38;5;124mpost_run_cell\u001b[39m\u001b[38;5;124m\"\u001b[39m, on_cancel)\n\u001b[1;32m--> 121\u001b[0m \u001b[38;5;28;01mreturn\u001b[39;00m f(\u001b[38;5;241m*\u001b[39margs, \u001b[38;5;241m*\u001b[39m\u001b[38;5;241m*\u001b[39mkwargs)\n",
      "File \u001b[1;32mc:\\Users\\Matthew.Hull\\nap_local\\nanodegree_datascience_term_2\\udacity_ds_term2_capstone_sparkify\\.venv\\lib\\site-packages\\pyspark\\ml\\tuning.py:858\u001b[0m, in \u001b[0;36mCrossValidator._fit.<locals>.calculate_metrics\u001b[1;34m()\u001b[0m\n\u001b[0;32m    855\u001b[0m         \u001b[38;5;28;01mraise\u001b[39;00m \u001b[38;5;167;01mRuntimeError\u001b[39;00m(\u001b[38;5;124m\"\u001b[39m\u001b[38;5;124mTerminate this task because one of other task failed.\u001b[39m\u001b[38;5;124m\"\u001b[39m)\n\u001b[0;32m    856\u001b[0m     \u001b[38;5;28;01mreturn\u001b[39;00m task()\n\u001b[1;32m--> 858\u001b[0m \u001b[38;5;28;01mfor\u001b[39;00m j, metric, subModel \u001b[38;5;129;01min\u001b[39;00m pool\u001b[38;5;241m.\u001b[39mimap_unordered(run_task, tasks):\n\u001b[0;32m    859\u001b[0m     metrics_all[i][j] \u001b[38;5;241m=\u001b[39m metric\n\u001b[0;32m    860\u001b[0m     \u001b[38;5;28;01mif\u001b[39;00m collectSubModelsParam:\n",
      "File \u001b[1;32m~\\AppData\\Local\\Programs\\Python\\Python39\\lib\\multiprocessing\\pool.py:870\u001b[0m, in \u001b[0;36mIMapIterator.next\u001b[1;34m(self, timeout)\u001b[0m\n\u001b[0;32m    868\u001b[0m \u001b[38;5;28;01mif\u001b[39;00m success:\n\u001b[0;32m    869\u001b[0m     \u001b[38;5;28;01mreturn\u001b[39;00m value\n\u001b[1;32m--> 870\u001b[0m \u001b[38;5;28;01mraise\u001b[39;00m value\n",
      "File \u001b[1;32m~\\AppData\\Local\\Programs\\Python\\Python39\\lib\\multiprocessing\\pool.py:125\u001b[0m, in \u001b[0;36mworker\u001b[1;34m(inqueue, outqueue, initializer, initargs, maxtasks, wrap_exception)\u001b[0m\n\u001b[0;32m    123\u001b[0m job, i, func, args, kwds \u001b[38;5;241m=\u001b[39m task\n\u001b[0;32m    124\u001b[0m \u001b[38;5;28;01mtry\u001b[39;00m:\n\u001b[1;32m--> 125\u001b[0m     result \u001b[38;5;241m=\u001b[39m (\u001b[38;5;28;01mTrue\u001b[39;00m, func(\u001b[38;5;241m*\u001b[39margs, \u001b[38;5;241m*\u001b[39m\u001b[38;5;241m*\u001b[39mkwds))\n\u001b[0;32m    126\u001b[0m \u001b[38;5;28;01mexcept\u001b[39;00m \u001b[38;5;167;01mException\u001b[39;00m \u001b[38;5;28;01mas\u001b[39;00m e:\n\u001b[0;32m    127\u001b[0m     \u001b[38;5;28;01mif\u001b[39;00m wrap_exception \u001b[38;5;129;01mand\u001b[39;00m func \u001b[38;5;129;01mis\u001b[39;00m \u001b[38;5;129;01mnot\u001b[39;00m _helper_reraises_exception:\n",
      "File \u001b[1;32mc:\\Users\\Matthew.Hull\\nap_local\\nanodegree_datascience_term_2\\udacity_ds_term2_capstone_sparkify\\.venv\\lib\\site-packages\\pyspark\\util.py:356\u001b[0m, in \u001b[0;36minheritable_thread_target.<locals>.wrapped\u001b[1;34m(*args, **kwargs)\u001b[0m\n\u001b[0;32m    354\u001b[0m \u001b[38;5;28;01massert\u001b[39;00m SparkContext\u001b[38;5;241m.\u001b[39m_active_spark_context \u001b[38;5;129;01mis\u001b[39;00m \u001b[38;5;129;01mnot\u001b[39;00m \u001b[38;5;28;01mNone\u001b[39;00m\n\u001b[0;32m    355\u001b[0m SparkContext\u001b[38;5;241m.\u001b[39m_active_spark_context\u001b[38;5;241m.\u001b[39m_jsc\u001b[38;5;241m.\u001b[39msc()\u001b[38;5;241m.\u001b[39msetLocalProperties(properties)\n\u001b[1;32m--> 356\u001b[0m \u001b[38;5;28;01mreturn\u001b[39;00m f(\u001b[38;5;241m*\u001b[39margs, \u001b[38;5;241m*\u001b[39m\u001b[38;5;241m*\u001b[39mkwargs)\n",
      "File \u001b[1;32mc:\\Users\\Matthew.Hull\\nap_local\\nanodegree_datascience_term_2\\udacity_ds_term2_capstone_sparkify\\.venv\\lib\\site-packages\\pyspark\\ml\\tuning.py:856\u001b[0m, in \u001b[0;36mCrossValidator._fit.<locals>.calculate_metrics.<locals>.run_task\u001b[1;34m(task)\u001b[0m\n\u001b[0;32m    854\u001b[0m \u001b[38;5;28;01mif\u001b[39;00m sub_task_failed[\u001b[38;5;241m0\u001b[39m]:\n\u001b[0;32m    855\u001b[0m     \u001b[38;5;28;01mraise\u001b[39;00m \u001b[38;5;167;01mRuntimeError\u001b[39;00m(\u001b[38;5;124m\"\u001b[39m\u001b[38;5;124mTerminate this task because one of other task failed.\u001b[39m\u001b[38;5;124m\"\u001b[39m)\n\u001b[1;32m--> 856\u001b[0m \u001b[38;5;28;01mreturn\u001b[39;00m \u001b[43mtask\u001b[49m\u001b[43m(\u001b[49m\u001b[43m)\u001b[49m\n",
      "File \u001b[1;32mc:\\Users\\Matthew.Hull\\nap_local\\nanodegree_datascience_term_2\\udacity_ds_term2_capstone_sparkify\\.venv\\lib\\site-packages\\pyspark\\ml\\tuning.py:113\u001b[0m, in \u001b[0;36m_parallelFitTasks.<locals>.singleTask\u001b[1;34m()\u001b[0m\n\u001b[0;32m    112\u001b[0m \u001b[38;5;28;01mdef\u001b[39;00m \u001b[38;5;21msingleTask\u001b[39m() \u001b[38;5;241m-\u001b[39m\u001b[38;5;241m>\u001b[39m Tuple[\u001b[38;5;28mint\u001b[39m, \u001b[38;5;28mfloat\u001b[39m, Transformer]:\n\u001b[1;32m--> 113\u001b[0m     index, model \u001b[38;5;241m=\u001b[39m \u001b[38;5;28;43mnext\u001b[39;49m\u001b[43m(\u001b[49m\u001b[43mmodelIter\u001b[49m\u001b[43m)\u001b[49m\n\u001b[0;32m    114\u001b[0m     \u001b[38;5;66;03m# TODO: duplicate evaluator to take extra params from input\u001b[39;00m\n\u001b[0;32m    115\u001b[0m     \u001b[38;5;66;03m#  Note: Supporting tuning params in evaluator need update method\u001b[39;00m\n\u001b[0;32m    116\u001b[0m     \u001b[38;5;66;03m#  `MetaAlgorithmReadWrite.getAllNestedStages`, make it return\u001b[39;00m\n\u001b[0;32m    117\u001b[0m     \u001b[38;5;66;03m#  all nested stages and evaluators\u001b[39;00m\n\u001b[0;32m    118\u001b[0m     metric \u001b[38;5;241m=\u001b[39m eva\u001b[38;5;241m.\u001b[39mevaluate(model\u001b[38;5;241m.\u001b[39mtransform(validation, epm[index]))\n",
      "File \u001b[1;32mc:\\Users\\Matthew.Hull\\nap_local\\nanodegree_datascience_term_2\\udacity_ds_term2_capstone_sparkify\\.venv\\lib\\site-packages\\pyspark\\ml\\base.py:98\u001b[0m, in \u001b[0;36m_FitMultipleIterator.__next__\u001b[1;34m(self)\u001b[0m\n\u001b[0;32m     96\u001b[0m         \u001b[38;5;28;01mraise\u001b[39;00m \u001b[38;5;167;01mStopIteration\u001b[39;00m(\u001b[38;5;124m\"\u001b[39m\u001b[38;5;124mNo models remaining.\u001b[39m\u001b[38;5;124m\"\u001b[39m)\n\u001b[0;32m     97\u001b[0m     \u001b[38;5;28mself\u001b[39m\u001b[38;5;241m.\u001b[39mcounter \u001b[38;5;241m+\u001b[39m\u001b[38;5;241m=\u001b[39m \u001b[38;5;241m1\u001b[39m\n\u001b[1;32m---> 98\u001b[0m \u001b[38;5;28;01mreturn\u001b[39;00m index, \u001b[38;5;28;43mself\u001b[39;49m\u001b[38;5;241;43m.\u001b[39;49m\u001b[43mfitSingleModel\u001b[49m\u001b[43m(\u001b[49m\u001b[43mindex\u001b[49m\u001b[43m)\u001b[49m\n",
      "File \u001b[1;32mc:\\Users\\Matthew.Hull\\nap_local\\nanodegree_datascience_term_2\\udacity_ds_term2_capstone_sparkify\\.venv\\lib\\site-packages\\pyspark\\ml\\base.py:156\u001b[0m, in \u001b[0;36mEstimator.fitMultiple.<locals>.fitSingleModel\u001b[1;34m(index)\u001b[0m\n\u001b[0;32m    155\u001b[0m \u001b[38;5;28;01mdef\u001b[39;00m \u001b[38;5;21mfitSingleModel\u001b[39m(index: \u001b[38;5;28mint\u001b[39m) \u001b[38;5;241m-\u001b[39m\u001b[38;5;241m>\u001b[39m M:\n\u001b[1;32m--> 156\u001b[0m     \u001b[38;5;28;01mreturn\u001b[39;00m \u001b[43mestimator\u001b[49m\u001b[38;5;241;43m.\u001b[39;49m\u001b[43mfit\u001b[49m\u001b[43m(\u001b[49m\u001b[43mdataset\u001b[49m\u001b[43m,\u001b[49m\u001b[43m \u001b[49m\u001b[43mparamMaps\u001b[49m\u001b[43m[\u001b[49m\u001b[43mindex\u001b[49m\u001b[43m]\u001b[49m\u001b[43m)\u001b[49m\n",
      "File \u001b[1;32mc:\\Users\\Matthew.Hull\\nap_local\\nanodegree_datascience_term_2\\udacity_ds_term2_capstone_sparkify\\.venv\\lib\\site-packages\\pyspark\\ml\\base.py:203\u001b[0m, in \u001b[0;36mEstimator.fit\u001b[1;34m(self, dataset, params)\u001b[0m\n\u001b[0;32m    201\u001b[0m \u001b[38;5;28;01melif\u001b[39;00m \u001b[38;5;28misinstance\u001b[39m(params, \u001b[38;5;28mdict\u001b[39m):\n\u001b[0;32m    202\u001b[0m     \u001b[38;5;28;01mif\u001b[39;00m params:\n\u001b[1;32m--> 203\u001b[0m         \u001b[38;5;28;01mreturn\u001b[39;00m \u001b[38;5;28;43mself\u001b[39;49m\u001b[38;5;241;43m.\u001b[39;49m\u001b[43mcopy\u001b[49m\u001b[43m(\u001b[49m\u001b[43mparams\u001b[49m\u001b[43m)\u001b[49m\u001b[38;5;241;43m.\u001b[39;49m\u001b[43m_fit\u001b[49m\u001b[43m(\u001b[49m\u001b[43mdataset\u001b[49m\u001b[43m)\u001b[49m\n\u001b[0;32m    204\u001b[0m     \u001b[38;5;28;01melse\u001b[39;00m:\n\u001b[0;32m    205\u001b[0m         \u001b[38;5;28;01mreturn\u001b[39;00m \u001b[38;5;28mself\u001b[39m\u001b[38;5;241m.\u001b[39m_fit(dataset)\n",
      "File \u001b[1;32mc:\\Users\\Matthew.Hull\\nap_local\\nanodegree_datascience_term_2\\udacity_ds_term2_capstone_sparkify\\.venv\\lib\\site-packages\\pyspark\\ml\\wrapper.py:383\u001b[0m, in \u001b[0;36mJavaEstimator._fit\u001b[1;34m(self, dataset)\u001b[0m\n\u001b[0;32m    382\u001b[0m \u001b[38;5;28;01mdef\u001b[39;00m \u001b[38;5;21m_fit\u001b[39m(\u001b[38;5;28mself\u001b[39m, dataset: DataFrame) \u001b[38;5;241m-\u001b[39m\u001b[38;5;241m>\u001b[39m JM:\n\u001b[1;32m--> 383\u001b[0m     java_model \u001b[38;5;241m=\u001b[39m \u001b[38;5;28;43mself\u001b[39;49m\u001b[38;5;241;43m.\u001b[39;49m\u001b[43m_fit_java\u001b[49m\u001b[43m(\u001b[49m\u001b[43mdataset\u001b[49m\u001b[43m)\u001b[49m\n\u001b[0;32m    384\u001b[0m     model \u001b[38;5;241m=\u001b[39m \u001b[38;5;28mself\u001b[39m\u001b[38;5;241m.\u001b[39m_create_model(java_model)\n\u001b[0;32m    385\u001b[0m     \u001b[38;5;28;01mreturn\u001b[39;00m \u001b[38;5;28mself\u001b[39m\u001b[38;5;241m.\u001b[39m_copyValues(model)\n",
      "File \u001b[1;32mc:\\Users\\Matthew.Hull\\nap_local\\nanodegree_datascience_term_2\\udacity_ds_term2_capstone_sparkify\\.venv\\lib\\site-packages\\pyspark\\ml\\wrapper.py:380\u001b[0m, in \u001b[0;36mJavaEstimator._fit_java\u001b[1;34m(self, dataset)\u001b[0m\n\u001b[0;32m    377\u001b[0m \u001b[38;5;28;01massert\u001b[39;00m \u001b[38;5;28mself\u001b[39m\u001b[38;5;241m.\u001b[39m_java_obj \u001b[38;5;129;01mis\u001b[39;00m \u001b[38;5;129;01mnot\u001b[39;00m \u001b[38;5;28;01mNone\u001b[39;00m\n\u001b[0;32m    379\u001b[0m \u001b[38;5;28mself\u001b[39m\u001b[38;5;241m.\u001b[39m_transfer_params_to_java()\n\u001b[1;32m--> 380\u001b[0m \u001b[38;5;28;01mreturn\u001b[39;00m \u001b[38;5;28;43mself\u001b[39;49m\u001b[38;5;241;43m.\u001b[39;49m\u001b[43m_java_obj\u001b[49m\u001b[38;5;241;43m.\u001b[39;49m\u001b[43mfit\u001b[49m\u001b[43m(\u001b[49m\u001b[43mdataset\u001b[49m\u001b[38;5;241;43m.\u001b[39;49m\u001b[43m_jdf\u001b[49m\u001b[43m)\u001b[49m\n",
      "File \u001b[1;32mc:\\Users\\Matthew.Hull\\nap_local\\nanodegree_datascience_term_2\\udacity_ds_term2_capstone_sparkify\\.venv\\lib\\site-packages\\py4j\\java_gateway.py:1321\u001b[0m, in \u001b[0;36mJavaMember.__call__\u001b[1;34m(self, *args)\u001b[0m\n\u001b[0;32m   1315\u001b[0m command \u001b[38;5;241m=\u001b[39m proto\u001b[38;5;241m.\u001b[39mCALL_COMMAND_NAME \u001b[38;5;241m+\u001b[39m\\\n\u001b[0;32m   1316\u001b[0m     \u001b[38;5;28mself\u001b[39m\u001b[38;5;241m.\u001b[39mcommand_header \u001b[38;5;241m+\u001b[39m\\\n\u001b[0;32m   1317\u001b[0m     args_command \u001b[38;5;241m+\u001b[39m\\\n\u001b[0;32m   1318\u001b[0m     proto\u001b[38;5;241m.\u001b[39mEND_COMMAND_PART\n\u001b[0;32m   1320\u001b[0m answer \u001b[38;5;241m=\u001b[39m \u001b[38;5;28mself\u001b[39m\u001b[38;5;241m.\u001b[39mgateway_client\u001b[38;5;241m.\u001b[39msend_command(command)\n\u001b[1;32m-> 1321\u001b[0m return_value \u001b[38;5;241m=\u001b[39m \u001b[43mget_return_value\u001b[49m\u001b[43m(\u001b[49m\n\u001b[0;32m   1322\u001b[0m \u001b[43m    \u001b[49m\u001b[43manswer\u001b[49m\u001b[43m,\u001b[49m\u001b[43m \u001b[49m\u001b[38;5;28;43mself\u001b[39;49m\u001b[38;5;241;43m.\u001b[39;49m\u001b[43mgateway_client\u001b[49m\u001b[43m,\u001b[49m\u001b[43m \u001b[49m\u001b[38;5;28;43mself\u001b[39;49m\u001b[38;5;241;43m.\u001b[39;49m\u001b[43mtarget_id\u001b[49m\u001b[43m,\u001b[49m\u001b[43m \u001b[49m\u001b[38;5;28;43mself\u001b[39;49m\u001b[38;5;241;43m.\u001b[39;49m\u001b[43mname\u001b[49m\u001b[43m)\u001b[49m\n\u001b[0;32m   1324\u001b[0m \u001b[38;5;28;01mfor\u001b[39;00m temp_arg \u001b[38;5;129;01min\u001b[39;00m temp_args:\n\u001b[0;32m   1325\u001b[0m     temp_arg\u001b[38;5;241m.\u001b[39m_detach()\n",
      "File \u001b[1;32mc:\\Users\\Matthew.Hull\\nap_local\\nanodegree_datascience_term_2\\udacity_ds_term2_capstone_sparkify\\.venv\\lib\\site-packages\\pyspark\\sql\\utils.py:196\u001b[0m, in \u001b[0;36mcapture_sql_exception.<locals>.deco\u001b[1;34m(*a, **kw)\u001b[0m\n\u001b[0;32m    194\u001b[0m \u001b[38;5;28;01mdef\u001b[39;00m \u001b[38;5;21mdeco\u001b[39m(\u001b[38;5;241m*\u001b[39ma: Any, \u001b[38;5;241m*\u001b[39m\u001b[38;5;241m*\u001b[39mkw: Any) \u001b[38;5;241m-\u001b[39m\u001b[38;5;241m>\u001b[39m Any:\n\u001b[0;32m    195\u001b[0m     \u001b[38;5;28;01mtry\u001b[39;00m:\n\u001b[1;32m--> 196\u001b[0m         \u001b[38;5;28;01mreturn\u001b[39;00m f(\u001b[38;5;241m*\u001b[39ma, \u001b[38;5;241m*\u001b[39m\u001b[38;5;241m*\u001b[39mkw)\n\u001b[0;32m    197\u001b[0m     \u001b[38;5;28;01mexcept\u001b[39;00m Py4JJavaError \u001b[38;5;28;01mas\u001b[39;00m e:\n\u001b[0;32m    198\u001b[0m         converted \u001b[38;5;241m=\u001b[39m convert_exception(e\u001b[38;5;241m.\u001b[39mjava_exception)\n",
      "File \u001b[1;32mc:\\Users\\Matthew.Hull\\nap_local\\nanodegree_datascience_term_2\\udacity_ds_term2_capstone_sparkify\\.venv\\lib\\site-packages\\py4j\\protocol.py:326\u001b[0m, in \u001b[0;36mget_return_value\u001b[1;34m(answer, gateway_client, target_id, name)\u001b[0m\n\u001b[0;32m    324\u001b[0m value \u001b[38;5;241m=\u001b[39m OUTPUT_CONVERTER[\u001b[38;5;28mtype\u001b[39m](answer[\u001b[38;5;241m2\u001b[39m:], gateway_client)\n\u001b[0;32m    325\u001b[0m \u001b[38;5;28;01mif\u001b[39;00m answer[\u001b[38;5;241m1\u001b[39m] \u001b[38;5;241m==\u001b[39m REFERENCE_TYPE:\n\u001b[1;32m--> 326\u001b[0m     \u001b[38;5;28;01mraise\u001b[39;00m Py4JJavaError(\n\u001b[0;32m    327\u001b[0m         \u001b[38;5;124m\"\u001b[39m\u001b[38;5;124mAn error occurred while calling \u001b[39m\u001b[38;5;132;01m{0}\u001b[39;00m\u001b[38;5;132;01m{1}\u001b[39;00m\u001b[38;5;132;01m{2}\u001b[39;00m\u001b[38;5;124m.\u001b[39m\u001b[38;5;130;01m\\n\u001b[39;00m\u001b[38;5;124m\"\u001b[39m\u001b[38;5;241m.\u001b[39m\n\u001b[0;32m    328\u001b[0m         \u001b[38;5;28mformat\u001b[39m(target_id, \u001b[38;5;124m\"\u001b[39m\u001b[38;5;124m.\u001b[39m\u001b[38;5;124m\"\u001b[39m, name), value)\n\u001b[0;32m    329\u001b[0m \u001b[38;5;28;01melse\u001b[39;00m:\n\u001b[0;32m    330\u001b[0m     \u001b[38;5;28;01mraise\u001b[39;00m Py4JError(\n\u001b[0;32m    331\u001b[0m         \u001b[38;5;124m\"\u001b[39m\u001b[38;5;124mAn error occurred while calling \u001b[39m\u001b[38;5;132;01m{0}\u001b[39;00m\u001b[38;5;132;01m{1}\u001b[39;00m\u001b[38;5;132;01m{2}\u001b[39;00m\u001b[38;5;124m. Trace:\u001b[39m\u001b[38;5;130;01m\\n\u001b[39;00m\u001b[38;5;132;01m{3}\u001b[39;00m\u001b[38;5;130;01m\\n\u001b[39;00m\u001b[38;5;124m\"\u001b[39m\u001b[38;5;241m.\u001b[39m\n\u001b[0;32m    332\u001b[0m         \u001b[38;5;28mformat\u001b[39m(target_id, \u001b[38;5;124m\"\u001b[39m\u001b[38;5;124m.\u001b[39m\u001b[38;5;124m\"\u001b[39m, name, value))\n",
      "\u001b[1;31mPy4JJavaError\u001b[0m: An error occurred while calling o5917.fit.\n: java.nio.file.NoSuchFileException: C:\\Users\\Matthew.Hull\\AppData\\Local\\Temp\\blockmgr-16ed3868-9222-4afb-90c3-b1f2992e3a06\\03\r\n\tat sun.nio.fs.WindowsException.translateToIOException(Unknown Source)\r\n\tat sun.nio.fs.WindowsException.rethrowAsIOException(Unknown Source)\r\n\tat sun.nio.fs.WindowsException.rethrowAsIOException(Unknown Source)\r\n\tat sun.nio.fs.WindowsFileSystemProvider.createDirectory(Unknown Source)\r\n\tat java.nio.file.Files.createDirectory(Unknown Source)\r\n\tat org.apache.spark.storage.DiskBlockManager.getFile(DiskBlockManager.scala:108)\r\n\tat org.apache.spark.storage.DiskStore.remove(DiskStore.scala:131)\r\n\tat org.apache.spark.storage.BlockManager.removeBlockInternal(BlockManager.scala:2053)\r\n\tat org.apache.spark.storage.BlockManager.org$apache$spark$storage$BlockManager$$doPut(BlockManager.scala:1513)\r\n\tat org.apache.spark.storage.BlockManager.doPutIterator(BlockManager.scala:1550)\r\n\tat org.apache.spark.storage.BlockManager.putIterator(BlockManager.scala:1401)\r\n\tat org.apache.spark.storage.BlockManager.putSingle(BlockManager.scala:1894)\r\n\tat org.apache.spark.broadcast.TorrentBroadcast.writeBlocks(TorrentBroadcast.scala:192)\r\n\tat org.apache.spark.broadcast.TorrentBroadcast.<init>(TorrentBroadcast.scala:125)\r\n\tat org.apache.spark.broadcast.TorrentBroadcastFactory.newBroadcast(TorrentBroadcastFactory.scala:41)\r\n\tat org.apache.spark.broadcast.BroadcastManager.newBroadcast(BroadcastManager.scala:115)\r\n\tat org.apache.spark.SparkContext.broadcastInternal(SparkContext.scala:1891)\r\n\tat org.apache.spark.SparkContext.broadcast(SparkContext.scala:1871)\r\n\tat org.apache.spark.SparkContext.broadcast(SparkContext.scala:1858)\r\n\tat org.apache.spark.ml.tree.impl.RandomForest$.run(RandomForest.scala:295)\r\n\tat org.apache.spark.ml.classification.RandomForestClassifier.$anonfun$train$1(RandomForestClassifier.scala:162)\r\n\tat org.apache.spark.ml.util.Instrumentation$.$anonfun$instrumented$1(Instrumentation.scala:284)\r\n\tat scala.util.Try$.apply(Try.scala:213)\r\n\tat org.apache.spark.ml.util.Instrumentation$.instrumented(Instrumentation.scala:284)\r\n\tat org.apache.spark.ml.classification.RandomForestClassifier.train(RandomForestClassifier.scala:139)\r\n\tat org.apache.spark.ml.classification.RandomForestClassifier.train(RandomForestClassifier.scala:47)\r\n\tat org.apache.spark.ml.Predictor.fit(Predictor.scala:151)\r\n\tat sun.reflect.NativeMethodAccessorImpl.invoke0(Native Method)\r\n\tat sun.reflect.NativeMethodAccessorImpl.invoke(Unknown Source)\r\n\tat sun.reflect.DelegatingMethodAccessorImpl.invoke(Unknown Source)\r\n\tat java.lang.reflect.Method.invoke(Unknown Source)\r\n\tat py4j.reflection.MethodInvoker.invoke(MethodInvoker.java:244)\r\n\tat py4j.reflection.ReflectionEngine.invoke(ReflectionEngine.java:380)\r\n\tat py4j.Gateway.invoke(Gateway.java:306)\r\n\tat py4j.commands.AbstractCommand.invokeMethod(AbstractCommand.java:132)\r\n\tat py4j.commands.CallCommand.execute(CallCommand.java:79)\r\n\tat py4j.ClientServerConnection.waitForCommands(ClientServerConnection.java:195)\r\n\tat py4j.ClientServerConnection.run(ClientServerConnection.java:115)\r\n\tat java.lang.Thread.run(Unknown Source)\r\n"
     ]
    }
   ],
   "source": [
    "rf = RandomForestClassifier(labelCol=\"Y\", \n",
    "                            featuresCol=\"x\")\n",
    "\n",
    "evaluator = BinaryClassificationEvaluator(rawPredictionCol=\"pred\") # prediction\n",
    "\n",
    "rf_param_grid = (\n",
    "    ParamGridBuilder()\n",
    "    .addGrid(rf.maxDepth, [5,10])\n",
    "    .addGrid(rf.maxBins, [25,35])\n",
    "    .build()\n",
    ")\n",
    "\n",
    "crossval = CrossValidator(\n",
    "    estimator=rf,\n",
    "    estimatorParamMaps=rf_param_grid,\n",
    "    evaluator=evaluator,\n",
    "    numFolds=2\n",
    ")\n",
    "\n",
    "rf_model = crossval.fit(train)"
   ]
  },
  {
   "cell_type": "code",
   "execution_count": null,
   "metadata": {},
   "outputs": [],
   "source": [
    "evaluate_model(rf_model, test)"
   ]
  },
  {
   "cell_type": "code",
   "execution_count": null,
   "metadata": {},
   "outputs": [],
   "source": [
    "# def evaluate_model(model, test):\n",
    "model = rf_model ##\n",
    "y_pred = model.transform(test)\n",
    "\n",
    "evaluator = BinaryClassificationEvaluator(rawPredictionCol=\"prediction\")\n",
    "evaluator.setLabelCol(\"Y\")\n",
    "f1_score = evaluator.evaluate(y_pred, {evaluator.metricName:\"f1\"})\n",
    "accuracy_score = evaluator.evaluate(y_pred, {evaluator.metricName:\"accuracy\"})\n",
    "\n",
    "print(f\"\\t{f1_score=}\")\n",
    "print(f\"\\t{accuracy_score=}\")\n",
    "\n",
    "print(f\"Best model params: {model.bestModel.extractParamMap()}\")"
   ]
  },
  {
   "cell_type": "code",
   "execution_count": null,
   "metadata": {},
   "outputs": [],
   "source": [
    "# rf = RandomForestClassifier(labelCol=\"churn\", \n",
    "#                             featuresCol=\"ScaledFeatures\")\n",
    "# dt = DecisionTreeClassifier(featuresCol = \"ScaledFeatures\", \n",
    "#                             labelCol = \"churn\")\n",
    "\n",
    "# pipeline_rf=Pipeline(stages=[assembler, scaler, rf])\n",
    "# pipeline_dt=Pipeline(stages=[assembler, scaler, dt])"
   ]
  },
  {
   "cell_type": "code",
   "execution_count": null,
   "metadata": {},
   "outputs": [],
   "source": [
    "# #Fit Decision Tree Classifier to training data and transform test data\n",
    "# model_dt = pipeline_dt.fit(training_data)\n",
    "# dt_predictions = model_dt.transform(test_data)\n",
    "# #Determine accuracy, f1, and precision of prediction\n",
    "# model_evaluator(dt_predictions)"
   ]
  },
  {
   "cell_type": "markdown",
   "metadata": {},
   "source": [
    "RE RUN MODELS WITH FULL INPUTS :-)"
   ]
  },
  {
   "cell_type": "markdown",
   "metadata": {},
   "source": [
    "# Improvements\n",
    "\n",
    "- check / deal with users that might have upgraded multiple times\n",
    "- Other feature ideas:\n",
    "    - number of sessions (ever / over a period)\n",
    "    - number of friends (ever / over a period) \n",
    "    - duration since registration\n",
    "    - duration since upgrading to paid level\n",
    "    -  day of the week / the week of the year?"
   ]
  }
 ],
 "metadata": {
  "kernelspec": {
   "display_name": ".venv",
   "language": "python",
   "name": "python3"
  },
  "language_info": {
   "codemirror_mode": {
    "name": "ipython",
    "version": 3
   },
   "file_extension": ".py",
   "mimetype": "text/x-python",
   "name": "python",
   "nbconvert_exporter": "python",
   "pygments_lexer": "ipython3",
   "version": "3.9.13"
  }
 },
 "nbformat": 4,
 "nbformat_minor": 2
}
